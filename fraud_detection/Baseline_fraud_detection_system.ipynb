{
 "cells": [
  {
   "cell_type": "code",
   "execution_count": 3,
   "metadata": {},
   "outputs": [],
   "source": [
    "# Necessary imports for this notebook\n",
    "import os\n",
    "\n",
    "import numpy as np\n",
    "import pandas as pd\n",
    "\n",
    "import datetime\n",
    "import time\n",
    "\n",
    "import random\n",
    "\n",
    "# For plotting\n",
    "%matplotlib inline\n",
    "\n",
    "import matplotlib.pyplot as plt\n",
    "import seaborn as sns\n",
    "\n",
    "sns.set_style('darkgrid', {'axes.facecolor': '0.9'})"
   ]
  },
  {
   "cell_type": "code",
   "execution_count": 25,
   "metadata": {},
   "outputs": [],
   "source": [
    "# Load a set of pickle files, put them together in a single DataFrame, and order them by time\n",
    "# It takes as input the folder DIR_INPUT where the files are stored, and the BEGIN_DATE and END_DATE\n",
    "def read_from_files(DIR_INPUT, BEGIN_DATE, END_DATE):\n",
    "    \n",
    "    files = [os.path.join(DIR_INPUT, f) for f in os.listdir(DIR_INPUT) if f>=BEGIN_DATE+'.pkl' and f<=END_DATE+'.pkl']\n",
    "\n",
    "    frames = []\n",
    "    for f in files:\n",
    "        df = pd.read_pickle(f)\n",
    "        frames.append(df)\n",
    "        del df\n",
    "    df_final = pd.concat(frames)\n",
    "    \n",
    "    df_final=df_final.sort_values('TRANSACTION_ID')\n",
    "    df_final.reset_index(drop=True,inplace=True)\n",
    "    #  Note: -1 are missing values for real world data \n",
    "    df_final=df_final.replace([-1],0)\n",
    "    \n",
    "    return df_final"
   ]
  },
  {
   "cell_type": "code",
   "execution_count": 26,
   "metadata": {},
   "outputs": [
    {
     "name": "stdout",
     "output_type": "stream",
     "text": [
      "Load  files\n",
      "Wall time: 172 ms\n",
      "201295 transactions loaded, containing 1792 fraudulent transactions\n"
     ]
    }
   ],
   "source": [
    "# Load data from the 2018-07-25 to the 2018-08-14\n",
    "\n",
    "DIR_INPUT='./simulated-data-transformed/data/' \n",
    "\n",
    "BEGIN_DATE = \"2018-07-25\"\n",
    "END_DATE = \"2018-08-14\"\n",
    "\n",
    "print(\"Load  files\")\n",
    "%time transactions_df=read_from_files(DIR_INPUT, BEGIN_DATE, END_DATE)\n",
    "print(\"{0} transactions loaded, containing {1} fraudulent transactions\".format(len(transactions_df),transactions_df.TX_FRAUD.sum()))"
   ]
  },
  {
   "cell_type": "code",
   "execution_count": 27,
   "metadata": {},
   "outputs": [
    {
     "data": {
      "text/html": [
       "<div>\n",
       "<style scoped>\n",
       "    .dataframe tbody tr th:only-of-type {\n",
       "        vertical-align: middle;\n",
       "    }\n",
       "\n",
       "    .dataframe tbody tr th {\n",
       "        vertical-align: top;\n",
       "    }\n",
       "\n",
       "    .dataframe thead th {\n",
       "        text-align: right;\n",
       "    }\n",
       "</style>\n",
       "<table border=\"1\" class=\"dataframe\">\n",
       "  <thead>\n",
       "    <tr style=\"text-align: right;\">\n",
       "      <th></th>\n",
       "      <th>TRANSACTION_ID</th>\n",
       "      <th>TX_DATETIME</th>\n",
       "      <th>CUSTOMER_ID</th>\n",
       "      <th>TERMINAL_ID</th>\n",
       "      <th>TX_AMOUNT</th>\n",
       "      <th>TX_TIME_SECONDS</th>\n",
       "      <th>TX_TIME_DAYS</th>\n",
       "      <th>TX_FRAUD</th>\n",
       "      <th>TX_FRAUD_SCENARIO</th>\n",
       "      <th>TX_DURING_WEEKEND</th>\n",
       "      <th>...</th>\n",
       "      <th>CUSTOMER_ID_NB_TX_7DAY_WINDOW</th>\n",
       "      <th>CUSTOMER_ID_AVG_AMOUNT_7DAY_WINDOW</th>\n",
       "      <th>CUSTOMER_ID_NB_TX_30DAY_WINDOW</th>\n",
       "      <th>CUSTOMER_ID_AVG_AMOUNT_30DAY_WINDOW</th>\n",
       "      <th>TERMINAL_ID_NB_TX_1DAY_WINDOW</th>\n",
       "      <th>TERMINAL_ID_RISK_1DAY_WINDOW</th>\n",
       "      <th>TERMINAL_ID_NB_TX_7DAY_WINDOW</th>\n",
       "      <th>TERMINAL_ID_RISK_7DAY_WINDOW</th>\n",
       "      <th>TERMINAL_ID_NB_TX_30DAY_WINDOW</th>\n",
       "      <th>TERMINAL_ID_RISK_30DAY_WINDOW</th>\n",
       "    </tr>\n",
       "  </thead>\n",
       "  <tbody>\n",
       "    <tr>\n",
       "      <th>0</th>\n",
       "      <td>1102483</td>\n",
       "      <td>2018-07-25 00:00:29</td>\n",
       "      <td>1111</td>\n",
       "      <td>2328</td>\n",
       "      <td>40.77</td>\n",
       "      <td>9936029</td>\n",
       "      <td>115</td>\n",
       "      <td>0</td>\n",
       "      <td>0</td>\n",
       "      <td>0</td>\n",
       "      <td>...</td>\n",
       "      <td>24.0</td>\n",
       "      <td>29.191250</td>\n",
       "      <td>105.0</td>\n",
       "      <td>30.141810</td>\n",
       "      <td>1.0</td>\n",
       "      <td>0.0</td>\n",
       "      <td>10.0</td>\n",
       "      <td>0.0</td>\n",
       "      <td>32.0</td>\n",
       "      <td>0.0</td>\n",
       "    </tr>\n",
       "    <tr>\n",
       "      <th>1</th>\n",
       "      <td>1102484</td>\n",
       "      <td>2018-07-25 00:01:08</td>\n",
       "      <td>676</td>\n",
       "      <td>6846</td>\n",
       "      <td>9.62</td>\n",
       "      <td>9936068</td>\n",
       "      <td>115</td>\n",
       "      <td>0</td>\n",
       "      <td>0</td>\n",
       "      <td>0</td>\n",
       "      <td>...</td>\n",
       "      <td>15.0</td>\n",
       "      <td>19.151333</td>\n",
       "      <td>61.0</td>\n",
       "      <td>18.253607</td>\n",
       "      <td>2.0</td>\n",
       "      <td>0.0</td>\n",
       "      <td>5.0</td>\n",
       "      <td>0.0</td>\n",
       "      <td>27.0</td>\n",
       "      <td>0.0</td>\n",
       "    </tr>\n",
       "    <tr>\n",
       "      <th>2</th>\n",
       "      <td>1102485</td>\n",
       "      <td>2018-07-25 00:01:35</td>\n",
       "      <td>402</td>\n",
       "      <td>4771</td>\n",
       "      <td>81.55</td>\n",
       "      <td>9936095</td>\n",
       "      <td>115</td>\n",
       "      <td>0</td>\n",
       "      <td>0</td>\n",
       "      <td>0</td>\n",
       "      <td>...</td>\n",
       "      <td>11.0</td>\n",
       "      <td>183.875455</td>\n",
       "      <td>50.0</td>\n",
       "      <td>112.001800</td>\n",
       "      <td>0.0</td>\n",
       "      <td>0.0</td>\n",
       "      <td>12.0</td>\n",
       "      <td>0.0</td>\n",
       "      <td>37.0</td>\n",
       "      <td>0.0</td>\n",
       "    </tr>\n",
       "    <tr>\n",
       "      <th>3</th>\n",
       "      <td>1102486</td>\n",
       "      <td>2018-07-25 00:01:43</td>\n",
       "      <td>4218</td>\n",
       "      <td>863</td>\n",
       "      <td>23.10</td>\n",
       "      <td>9936103</td>\n",
       "      <td>115</td>\n",
       "      <td>0</td>\n",
       "      <td>0</td>\n",
       "      <td>0</td>\n",
       "      <td>...</td>\n",
       "      <td>24.0</td>\n",
       "      <td>21.201667</td>\n",
       "      <td>93.0</td>\n",
       "      <td>19.987849</td>\n",
       "      <td>2.0</td>\n",
       "      <td>0.0</td>\n",
       "      <td>6.0</td>\n",
       "      <td>0.0</td>\n",
       "      <td>22.0</td>\n",
       "      <td>0.0</td>\n",
       "    </tr>\n",
       "    <tr>\n",
       "      <th>4</th>\n",
       "      <td>1102487</td>\n",
       "      <td>2018-07-25 00:02:26</td>\n",
       "      <td>3711</td>\n",
       "      <td>3599</td>\n",
       "      <td>59.25</td>\n",
       "      <td>9936146</td>\n",
       "      <td>115</td>\n",
       "      <td>0</td>\n",
       "      <td>0</td>\n",
       "      <td>0</td>\n",
       "      <td>...</td>\n",
       "      <td>27.0</td>\n",
       "      <td>80.427407</td>\n",
       "      <td>110.0</td>\n",
       "      <td>74.158455</td>\n",
       "      <td>1.0</td>\n",
       "      <td>0.0</td>\n",
       "      <td>10.0</td>\n",
       "      <td>0.0</td>\n",
       "      <td>38.0</td>\n",
       "      <td>0.0</td>\n",
       "    </tr>\n",
       "    <tr>\n",
       "      <th>...</th>\n",
       "      <td>...</td>\n",
       "      <td>...</td>\n",
       "      <td>...</td>\n",
       "      <td>...</td>\n",
       "      <td>...</td>\n",
       "      <td>...</td>\n",
       "      <td>...</td>\n",
       "      <td>...</td>\n",
       "      <td>...</td>\n",
       "      <td>...</td>\n",
       "      <td>...</td>\n",
       "      <td>...</td>\n",
       "      <td>...</td>\n",
       "      <td>...</td>\n",
       "      <td>...</td>\n",
       "      <td>...</td>\n",
       "      <td>...</td>\n",
       "      <td>...</td>\n",
       "      <td>...</td>\n",
       "      <td>...</td>\n",
       "      <td>...</td>\n",
       "    </tr>\n",
       "    <tr>\n",
       "      <th>201290</th>\n",
       "      <td>1303773</td>\n",
       "      <td>2018-08-14 23:57:03</td>\n",
       "      <td>460</td>\n",
       "      <td>6133</td>\n",
       "      <td>16.72</td>\n",
       "      <td>11750223</td>\n",
       "      <td>135</td>\n",
       "      <td>0</td>\n",
       "      <td>0</td>\n",
       "      <td>0</td>\n",
       "      <td>...</td>\n",
       "      <td>7.0</td>\n",
       "      <td>19.210000</td>\n",
       "      <td>21.0</td>\n",
       "      <td>22.987619</td>\n",
       "      <td>1.0</td>\n",
       "      <td>0.0</td>\n",
       "      <td>3.0</td>\n",
       "      <td>0.0</td>\n",
       "      <td>20.0</td>\n",
       "      <td>0.0</td>\n",
       "    </tr>\n",
       "    <tr>\n",
       "      <th>201291</th>\n",
       "      <td>1303774</td>\n",
       "      <td>2018-08-14 23:58:24</td>\n",
       "      <td>3101</td>\n",
       "      <td>3229</td>\n",
       "      <td>38.16</td>\n",
       "      <td>11750304</td>\n",
       "      <td>135</td>\n",
       "      <td>0</td>\n",
       "      <td>0</td>\n",
       "      <td>0</td>\n",
       "      <td>...</td>\n",
       "      <td>28.0</td>\n",
       "      <td>46.151429</td>\n",
       "      <td>97.0</td>\n",
       "      <td>45.018144</td>\n",
       "      <td>2.0</td>\n",
       "      <td>0.0</td>\n",
       "      <td>13.0</td>\n",
       "      <td>0.0</td>\n",
       "      <td>42.0</td>\n",
       "      <td>0.0</td>\n",
       "    </tr>\n",
       "    <tr>\n",
       "      <th>201292</th>\n",
       "      <td>1303775</td>\n",
       "      <td>2018-08-14 23:58:24</td>\n",
       "      <td>4783</td>\n",
       "      <td>7511</td>\n",
       "      <td>69.85</td>\n",
       "      <td>11750304</td>\n",
       "      <td>135</td>\n",
       "      <td>0</td>\n",
       "      <td>0</td>\n",
       "      <td>0</td>\n",
       "      <td>...</td>\n",
       "      <td>24.0</td>\n",
       "      <td>95.770417</td>\n",
       "      <td>101.0</td>\n",
       "      <td>89.886040</td>\n",
       "      <td>0.0</td>\n",
       "      <td>0.0</td>\n",
       "      <td>3.0</td>\n",
       "      <td>0.0</td>\n",
       "      <td>34.0</td>\n",
       "      <td>0.0</td>\n",
       "    </tr>\n",
       "    <tr>\n",
       "      <th>201293</th>\n",
       "      <td>1303776</td>\n",
       "      <td>2018-08-14 23:58:45</td>\n",
       "      <td>2883</td>\n",
       "      <td>8550</td>\n",
       "      <td>14.99</td>\n",
       "      <td>11750325</td>\n",
       "      <td>135</td>\n",
       "      <td>0</td>\n",
       "      <td>0</td>\n",
       "      <td>0</td>\n",
       "      <td>...</td>\n",
       "      <td>19.0</td>\n",
       "      <td>18.450000</td>\n",
       "      <td>77.0</td>\n",
       "      <td>15.848052</td>\n",
       "      <td>3.0</td>\n",
       "      <td>0.0</td>\n",
       "      <td>7.0</td>\n",
       "      <td>0.0</td>\n",
       "      <td>20.0</td>\n",
       "      <td>0.0</td>\n",
       "    </tr>\n",
       "    <tr>\n",
       "      <th>201294</th>\n",
       "      <td>1303777</td>\n",
       "      <td>2018-08-14 23:59:43</td>\n",
       "      <td>3901</td>\n",
       "      <td>8047</td>\n",
       "      <td>55.99</td>\n",
       "      <td>11750383</td>\n",
       "      <td>135</td>\n",
       "      <td>0</td>\n",
       "      <td>0</td>\n",
       "      <td>0</td>\n",
       "      <td>...</td>\n",
       "      <td>12.0</td>\n",
       "      <td>37.453333</td>\n",
       "      <td>47.0</td>\n",
       "      <td>37.539149</td>\n",
       "      <td>0.0</td>\n",
       "      <td>0.0</td>\n",
       "      <td>7.0</td>\n",
       "      <td>0.0</td>\n",
       "      <td>23.0</td>\n",
       "      <td>0.0</td>\n",
       "    </tr>\n",
       "  </tbody>\n",
       "</table>\n",
       "<p>201295 rows × 23 columns</p>\n",
       "</div>"
      ],
      "text/plain": [
       "        TRANSACTION_ID         TX_DATETIME  CUSTOMER_ID  TERMINAL_ID  \\\n",
       "0              1102483 2018-07-25 00:00:29         1111         2328   \n",
       "1              1102484 2018-07-25 00:01:08          676         6846   \n",
       "2              1102485 2018-07-25 00:01:35          402         4771   \n",
       "3              1102486 2018-07-25 00:01:43         4218          863   \n",
       "4              1102487 2018-07-25 00:02:26         3711         3599   \n",
       "...                ...                 ...          ...          ...   \n",
       "201290         1303773 2018-08-14 23:57:03          460         6133   \n",
       "201291         1303774 2018-08-14 23:58:24         3101         3229   \n",
       "201292         1303775 2018-08-14 23:58:24         4783         7511   \n",
       "201293         1303776 2018-08-14 23:58:45         2883         8550   \n",
       "201294         1303777 2018-08-14 23:59:43         3901         8047   \n",
       "\n",
       "        TX_AMOUNT  TX_TIME_SECONDS  TX_TIME_DAYS  TX_FRAUD  TX_FRAUD_SCENARIO  \\\n",
       "0           40.77          9936029           115         0                  0   \n",
       "1            9.62          9936068           115         0                  0   \n",
       "2           81.55          9936095           115         0                  0   \n",
       "3           23.10          9936103           115         0                  0   \n",
       "4           59.25          9936146           115         0                  0   \n",
       "...           ...              ...           ...       ...                ...   \n",
       "201290      16.72         11750223           135         0                  0   \n",
       "201291      38.16         11750304           135         0                  0   \n",
       "201292      69.85         11750304           135         0                  0   \n",
       "201293      14.99         11750325           135         0                  0   \n",
       "201294      55.99         11750383           135         0                  0   \n",
       "\n",
       "        TX_DURING_WEEKEND  ...  CUSTOMER_ID_NB_TX_7DAY_WINDOW  \\\n",
       "0                       0  ...                           24.0   \n",
       "1                       0  ...                           15.0   \n",
       "2                       0  ...                           11.0   \n",
       "3                       0  ...                           24.0   \n",
       "4                       0  ...                           27.0   \n",
       "...                   ...  ...                            ...   \n",
       "201290                  0  ...                            7.0   \n",
       "201291                  0  ...                           28.0   \n",
       "201292                  0  ...                           24.0   \n",
       "201293                  0  ...                           19.0   \n",
       "201294                  0  ...                           12.0   \n",
       "\n",
       "        CUSTOMER_ID_AVG_AMOUNT_7DAY_WINDOW  CUSTOMER_ID_NB_TX_30DAY_WINDOW  \\\n",
       "0                                29.191250                           105.0   \n",
       "1                                19.151333                            61.0   \n",
       "2                               183.875455                            50.0   \n",
       "3                                21.201667                            93.0   \n",
       "4                                80.427407                           110.0   \n",
       "...                                    ...                             ...   \n",
       "201290                           19.210000                            21.0   \n",
       "201291                           46.151429                            97.0   \n",
       "201292                           95.770417                           101.0   \n",
       "201293                           18.450000                            77.0   \n",
       "201294                           37.453333                            47.0   \n",
       "\n",
       "        CUSTOMER_ID_AVG_AMOUNT_30DAY_WINDOW  TERMINAL_ID_NB_TX_1DAY_WINDOW  \\\n",
       "0                                 30.141810                            1.0   \n",
       "1                                 18.253607                            2.0   \n",
       "2                                112.001800                            0.0   \n",
       "3                                 19.987849                            2.0   \n",
       "4                                 74.158455                            1.0   \n",
       "...                                     ...                            ...   \n",
       "201290                            22.987619                            1.0   \n",
       "201291                            45.018144                            2.0   \n",
       "201292                            89.886040                            0.0   \n",
       "201293                            15.848052                            3.0   \n",
       "201294                            37.539149                            0.0   \n",
       "\n",
       "        TERMINAL_ID_RISK_1DAY_WINDOW  TERMINAL_ID_NB_TX_7DAY_WINDOW  \\\n",
       "0                                0.0                           10.0   \n",
       "1                                0.0                            5.0   \n",
       "2                                0.0                           12.0   \n",
       "3                                0.0                            6.0   \n",
       "4                                0.0                           10.0   \n",
       "...                              ...                            ...   \n",
       "201290                           0.0                            3.0   \n",
       "201291                           0.0                           13.0   \n",
       "201292                           0.0                            3.0   \n",
       "201293                           0.0                            7.0   \n",
       "201294                           0.0                            7.0   \n",
       "\n",
       "        TERMINAL_ID_RISK_7DAY_WINDOW  TERMINAL_ID_NB_TX_30DAY_WINDOW  \\\n",
       "0                                0.0                            32.0   \n",
       "1                                0.0                            27.0   \n",
       "2                                0.0                            37.0   \n",
       "3                                0.0                            22.0   \n",
       "4                                0.0                            38.0   \n",
       "...                              ...                             ...   \n",
       "201290                           0.0                            20.0   \n",
       "201291                           0.0                            42.0   \n",
       "201292                           0.0                            34.0   \n",
       "201293                           0.0                            20.0   \n",
       "201294                           0.0                            23.0   \n",
       "\n",
       "        TERMINAL_ID_RISK_30DAY_WINDOW  \n",
       "0                                 0.0  \n",
       "1                                 0.0  \n",
       "2                                 0.0  \n",
       "3                                 0.0  \n",
       "4                                 0.0  \n",
       "...                               ...  \n",
       "201290                            0.0  \n",
       "201291                            0.0  \n",
       "201292                            0.0  \n",
       "201293                            0.0  \n",
       "201294                            0.0  \n",
       "\n",
       "[201295 rows x 23 columns]"
      ]
     },
     "execution_count": 27,
     "metadata": {},
     "output_type": "execute_result"
    }
   ],
   "source": [
    "transactions_df"
   ]
  },
  {
   "cell_type": "code",
   "execution_count": 28,
   "metadata": {},
   "outputs": [
    {
     "data": {
      "text/plain": [
       "(201295, 23)"
      ]
     },
     "execution_count": 28,
     "metadata": {},
     "output_type": "execute_result"
    }
   ],
   "source": [
    "transactions_df.shape"
   ]
  },
  {
   "cell_type": "code",
   "execution_count": 29,
   "metadata": {},
   "outputs": [],
   "source": [
    "transactions_df.to_csv(\"finaldata.csv\")"
   ]
  },
  {
   "cell_type": "markdown",
   "metadata": {},
   "source": [
    "# EDA"
   ]
  },
  {
   "cell_type": "code",
   "execution_count": 4,
   "metadata": {},
   "outputs": [],
   "source": [
    "finaldata=pd.read_csv(\"finaldata.csv\",index_col=0)"
   ]
  },
  {
   "cell_type": "code",
   "execution_count": 5,
   "metadata": {},
   "outputs": [
    {
     "data": {
      "text/html": [
       "<div>\n",
       "<style scoped>\n",
       "    .dataframe tbody tr th:only-of-type {\n",
       "        vertical-align: middle;\n",
       "    }\n",
       "\n",
       "    .dataframe tbody tr th {\n",
       "        vertical-align: top;\n",
       "    }\n",
       "\n",
       "    .dataframe thead th {\n",
       "        text-align: right;\n",
       "    }\n",
       "</style>\n",
       "<table border=\"1\" class=\"dataframe\">\n",
       "  <thead>\n",
       "    <tr style=\"text-align: right;\">\n",
       "      <th></th>\n",
       "      <th>TRANSACTION_ID</th>\n",
       "      <th>TX_DATETIME</th>\n",
       "      <th>CUSTOMER_ID</th>\n",
       "      <th>TERMINAL_ID</th>\n",
       "      <th>TX_AMOUNT</th>\n",
       "      <th>TX_TIME_SECONDS</th>\n",
       "      <th>TX_TIME_DAYS</th>\n",
       "      <th>TX_FRAUD</th>\n",
       "      <th>TX_FRAUD_SCENARIO</th>\n",
       "      <th>TX_DURING_WEEKEND</th>\n",
       "      <th>...</th>\n",
       "      <th>CUSTOMER_ID_NB_TX_7DAY_WINDOW</th>\n",
       "      <th>CUSTOMER_ID_AVG_AMOUNT_7DAY_WINDOW</th>\n",
       "      <th>CUSTOMER_ID_NB_TX_30DAY_WINDOW</th>\n",
       "      <th>CUSTOMER_ID_AVG_AMOUNT_30DAY_WINDOW</th>\n",
       "      <th>TERMINAL_ID_NB_TX_1DAY_WINDOW</th>\n",
       "      <th>TERMINAL_ID_RISK_1DAY_WINDOW</th>\n",
       "      <th>TERMINAL_ID_NB_TX_7DAY_WINDOW</th>\n",
       "      <th>TERMINAL_ID_RISK_7DAY_WINDOW</th>\n",
       "      <th>TERMINAL_ID_NB_TX_30DAY_WINDOW</th>\n",
       "      <th>TERMINAL_ID_RISK_30DAY_WINDOW</th>\n",
       "    </tr>\n",
       "  </thead>\n",
       "  <tbody>\n",
       "    <tr>\n",
       "      <th>0</th>\n",
       "      <td>1102483</td>\n",
       "      <td>2018-07-25 00:00:29</td>\n",
       "      <td>1111</td>\n",
       "      <td>2328</td>\n",
       "      <td>40.77</td>\n",
       "      <td>9936029</td>\n",
       "      <td>115</td>\n",
       "      <td>0</td>\n",
       "      <td>0</td>\n",
       "      <td>0</td>\n",
       "      <td>...</td>\n",
       "      <td>24.0</td>\n",
       "      <td>29.191250</td>\n",
       "      <td>105.0</td>\n",
       "      <td>30.141810</td>\n",
       "      <td>1.0</td>\n",
       "      <td>0.0</td>\n",
       "      <td>10.0</td>\n",
       "      <td>0.0</td>\n",
       "      <td>32.0</td>\n",
       "      <td>0.0</td>\n",
       "    </tr>\n",
       "    <tr>\n",
       "      <th>1</th>\n",
       "      <td>1102484</td>\n",
       "      <td>2018-07-25 00:01:08</td>\n",
       "      <td>676</td>\n",
       "      <td>6846</td>\n",
       "      <td>9.62</td>\n",
       "      <td>9936068</td>\n",
       "      <td>115</td>\n",
       "      <td>0</td>\n",
       "      <td>0</td>\n",
       "      <td>0</td>\n",
       "      <td>...</td>\n",
       "      <td>15.0</td>\n",
       "      <td>19.151333</td>\n",
       "      <td>61.0</td>\n",
       "      <td>18.253607</td>\n",
       "      <td>2.0</td>\n",
       "      <td>0.0</td>\n",
       "      <td>5.0</td>\n",
       "      <td>0.0</td>\n",
       "      <td>27.0</td>\n",
       "      <td>0.0</td>\n",
       "    </tr>\n",
       "    <tr>\n",
       "      <th>2</th>\n",
       "      <td>1102485</td>\n",
       "      <td>2018-07-25 00:01:35</td>\n",
       "      <td>402</td>\n",
       "      <td>4771</td>\n",
       "      <td>81.55</td>\n",
       "      <td>9936095</td>\n",
       "      <td>115</td>\n",
       "      <td>0</td>\n",
       "      <td>0</td>\n",
       "      <td>0</td>\n",
       "      <td>...</td>\n",
       "      <td>11.0</td>\n",
       "      <td>183.875455</td>\n",
       "      <td>50.0</td>\n",
       "      <td>112.001800</td>\n",
       "      <td>0.0</td>\n",
       "      <td>0.0</td>\n",
       "      <td>12.0</td>\n",
       "      <td>0.0</td>\n",
       "      <td>37.0</td>\n",
       "      <td>0.0</td>\n",
       "    </tr>\n",
       "    <tr>\n",
       "      <th>3</th>\n",
       "      <td>1102486</td>\n",
       "      <td>2018-07-25 00:01:43</td>\n",
       "      <td>4218</td>\n",
       "      <td>863</td>\n",
       "      <td>23.10</td>\n",
       "      <td>9936103</td>\n",
       "      <td>115</td>\n",
       "      <td>0</td>\n",
       "      <td>0</td>\n",
       "      <td>0</td>\n",
       "      <td>...</td>\n",
       "      <td>24.0</td>\n",
       "      <td>21.201667</td>\n",
       "      <td>93.0</td>\n",
       "      <td>19.987849</td>\n",
       "      <td>2.0</td>\n",
       "      <td>0.0</td>\n",
       "      <td>6.0</td>\n",
       "      <td>0.0</td>\n",
       "      <td>22.0</td>\n",
       "      <td>0.0</td>\n",
       "    </tr>\n",
       "    <tr>\n",
       "      <th>4</th>\n",
       "      <td>1102487</td>\n",
       "      <td>2018-07-25 00:02:26</td>\n",
       "      <td>3711</td>\n",
       "      <td>3599</td>\n",
       "      <td>59.25</td>\n",
       "      <td>9936146</td>\n",
       "      <td>115</td>\n",
       "      <td>0</td>\n",
       "      <td>0</td>\n",
       "      <td>0</td>\n",
       "      <td>...</td>\n",
       "      <td>27.0</td>\n",
       "      <td>80.427407</td>\n",
       "      <td>110.0</td>\n",
       "      <td>74.158455</td>\n",
       "      <td>1.0</td>\n",
       "      <td>0.0</td>\n",
       "      <td>10.0</td>\n",
       "      <td>0.0</td>\n",
       "      <td>38.0</td>\n",
       "      <td>0.0</td>\n",
       "    </tr>\n",
       "  </tbody>\n",
       "</table>\n",
       "<p>5 rows × 23 columns</p>\n",
       "</div>"
      ],
      "text/plain": [
       "   TRANSACTION_ID          TX_DATETIME  CUSTOMER_ID  TERMINAL_ID  TX_AMOUNT  \\\n",
       "0         1102483  2018-07-25 00:00:29         1111         2328      40.77   \n",
       "1         1102484  2018-07-25 00:01:08          676         6846       9.62   \n",
       "2         1102485  2018-07-25 00:01:35          402         4771      81.55   \n",
       "3         1102486  2018-07-25 00:01:43         4218          863      23.10   \n",
       "4         1102487  2018-07-25 00:02:26         3711         3599      59.25   \n",
       "\n",
       "   TX_TIME_SECONDS  TX_TIME_DAYS  TX_FRAUD  TX_FRAUD_SCENARIO  \\\n",
       "0          9936029           115         0                  0   \n",
       "1          9936068           115         0                  0   \n",
       "2          9936095           115         0                  0   \n",
       "3          9936103           115         0                  0   \n",
       "4          9936146           115         0                  0   \n",
       "\n",
       "   TX_DURING_WEEKEND  ...  CUSTOMER_ID_NB_TX_7DAY_WINDOW  \\\n",
       "0                  0  ...                           24.0   \n",
       "1                  0  ...                           15.0   \n",
       "2                  0  ...                           11.0   \n",
       "3                  0  ...                           24.0   \n",
       "4                  0  ...                           27.0   \n",
       "\n",
       "   CUSTOMER_ID_AVG_AMOUNT_7DAY_WINDOW  CUSTOMER_ID_NB_TX_30DAY_WINDOW  \\\n",
       "0                           29.191250                           105.0   \n",
       "1                           19.151333                            61.0   \n",
       "2                          183.875455                            50.0   \n",
       "3                           21.201667                            93.0   \n",
       "4                           80.427407                           110.0   \n",
       "\n",
       "   CUSTOMER_ID_AVG_AMOUNT_30DAY_WINDOW  TERMINAL_ID_NB_TX_1DAY_WINDOW  \\\n",
       "0                            30.141810                            1.0   \n",
       "1                            18.253607                            2.0   \n",
       "2                           112.001800                            0.0   \n",
       "3                            19.987849                            2.0   \n",
       "4                            74.158455                            1.0   \n",
       "\n",
       "   TERMINAL_ID_RISK_1DAY_WINDOW  TERMINAL_ID_NB_TX_7DAY_WINDOW  \\\n",
       "0                           0.0                           10.0   \n",
       "1                           0.0                            5.0   \n",
       "2                           0.0                           12.0   \n",
       "3                           0.0                            6.0   \n",
       "4                           0.0                           10.0   \n",
       "\n",
       "   TERMINAL_ID_RISK_7DAY_WINDOW  TERMINAL_ID_NB_TX_30DAY_WINDOW  \\\n",
       "0                           0.0                            32.0   \n",
       "1                           0.0                            27.0   \n",
       "2                           0.0                            37.0   \n",
       "3                           0.0                            22.0   \n",
       "4                           0.0                            38.0   \n",
       "\n",
       "   TERMINAL_ID_RISK_30DAY_WINDOW  \n",
       "0                            0.0  \n",
       "1                            0.0  \n",
       "2                            0.0  \n",
       "3                            0.0  \n",
       "4                            0.0  \n",
       "\n",
       "[5 rows x 23 columns]"
      ]
     },
     "execution_count": 5,
     "metadata": {},
     "output_type": "execute_result"
    }
   ],
   "source": [
    "finaldata.head()"
   ]
  },
  {
   "cell_type": "code",
   "execution_count": 6,
   "metadata": {},
   "outputs": [
    {
     "data": {
      "text/plain": [
       "(201295, 23)"
      ]
     },
     "execution_count": 6,
     "metadata": {},
     "output_type": "execute_result"
    }
   ],
   "source": [
    "finaldata.shape"
   ]
  },
  {
   "cell_type": "code",
   "execution_count": 7,
   "metadata": {},
   "outputs": [
    {
     "data": {
      "text/plain": [
       "TRANSACTION_ID                         0\n",
       "TX_DATETIME                            0\n",
       "CUSTOMER_ID                            0\n",
       "TERMINAL_ID                            0\n",
       "TX_AMOUNT                              0\n",
       "TX_TIME_SECONDS                        0\n",
       "TX_TIME_DAYS                           0\n",
       "TX_FRAUD                               0\n",
       "TX_FRAUD_SCENARIO                      0\n",
       "TX_DURING_WEEKEND                      0\n",
       "TX_DURING_NIGHT                        0\n",
       "CUSTOMER_ID_NB_TX_1DAY_WINDOW          0\n",
       "CUSTOMER_ID_AVG_AMOUNT_1DAY_WINDOW     0\n",
       "CUSTOMER_ID_NB_TX_7DAY_WINDOW          0\n",
       "CUSTOMER_ID_AVG_AMOUNT_7DAY_WINDOW     0\n",
       "CUSTOMER_ID_NB_TX_30DAY_WINDOW         0\n",
       "CUSTOMER_ID_AVG_AMOUNT_30DAY_WINDOW    0\n",
       "TERMINAL_ID_NB_TX_1DAY_WINDOW          0\n",
       "TERMINAL_ID_RISK_1DAY_WINDOW           0\n",
       "TERMINAL_ID_NB_TX_7DAY_WINDOW          0\n",
       "TERMINAL_ID_RISK_7DAY_WINDOW           0\n",
       "TERMINAL_ID_NB_TX_30DAY_WINDOW         0\n",
       "TERMINAL_ID_RISK_30DAY_WINDOW          0\n",
       "dtype: int64"
      ]
     },
     "execution_count": 7,
     "metadata": {},
     "output_type": "execute_result"
    }
   ],
   "source": [
    "finaldata.isnull().sum()"
   ]
  },
  {
   "cell_type": "code",
   "execution_count": 8,
   "metadata": {},
   "outputs": [],
   "source": [
    "import scipy.stats as stat\n",
    "import pylab "
   ]
  },
  {
   "cell_type": "code",
   "execution_count": 9,
   "metadata": {},
   "outputs": [],
   "source": [
    "def plot_data(df,feature):\n",
    "    plt.figure(figsize=(10,6))\n",
    "    plt.subplot(1,2,1)\n",
    "    df[feature].hist()\n",
    "    plt.subplot(1,2,2)\n",
    "    stat.probplot(df[feature],dist='norm',plot=pylab)\n",
    "    plt.show()"
   ]
  },
  {
   "cell_type": "markdown",
   "metadata": {},
   "source": [
    "### Checking for normal distribution on the amount feature"
   ]
  },
  {
   "cell_type": "code",
   "execution_count": 10,
   "metadata": {},
   "outputs": [
    {
     "data": {
      "image/png": "[encoded data removed]",
      "text/plain": [
       "<Figure size 720x432 with 2 Axes>"
      ]
     },
     "metadata": {},
     "output_type": "display_data"
    }
   ],
   "source": [
    "plot_data(finaldata,'TX_AMOUNT')"
   ]
  },
  {
   "cell_type": "code",
   "execution_count": 11,
   "metadata": {},
   "outputs": [],
   "source": [
    "output_feature=\"TX_FRAUD\"\n",
    "\n",
    "input_features=['TX_AMOUNT','TX_DURING_WEEKEND', 'TX_DURING_NIGHT', 'CUSTOMER_ID_NB_TX_1DAY_WINDOW',\n",
    "       'CUSTOMER_ID_AVG_AMOUNT_1DAY_WINDOW', 'CUSTOMER_ID_NB_TX_7DAY_WINDOW',\n",
    "       'CUSTOMER_ID_AVG_AMOUNT_7DAY_WINDOW', 'CUSTOMER_ID_NB_TX_30DAY_WINDOW',\n",
    "       'CUSTOMER_ID_AVG_AMOUNT_30DAY_WINDOW', 'TERMINAL_ID_NB_TX_1DAY_WINDOW',\n",
    "       'TERMINAL_ID_RISK_1DAY_WINDOW', 'TERMINAL_ID_NB_TX_7DAY_WINDOW',\n",
    "       'TERMINAL_ID_RISK_7DAY_WINDOW', 'TERMINAL_ID_NB_TX_30DAY_WINDOW',\n",
    "       'TERMINAL_ID_RISK_30DAY_WINDOW']"
   ]
  },
  {
   "cell_type": "code",
   "execution_count": 12,
   "metadata": {},
   "outputs": [
    {
     "data": {
      "text/plain": [
       "0         0\n",
       "1         0\n",
       "2         0\n",
       "3         0\n",
       "4         0\n",
       "         ..\n",
       "201290    0\n",
       "201291    0\n",
       "201292    0\n",
       "201293    0\n",
       "201294    0\n",
       "Name: TX_FRAUD, Length: 201295, dtype: int64"
      ]
     },
     "execution_count": 12,
     "metadata": {},
     "output_type": "execute_result"
    }
   ],
   "source": [
    "y=finaldata[output_feature]\n",
    "y"
   ]
  },
  {
   "cell_type": "code",
   "execution_count": 13,
   "metadata": {},
   "outputs": [],
   "source": [
    "X=finaldata[input_features]"
   ]
  },
  {
   "cell_type": "code",
   "execution_count": 175,
   "metadata": {},
   "outputs": [
    {
     "data": {
      "text/html": [
       "<div>\n",
       "<style scoped>\n",
       "    .dataframe tbody tr th:only-of-type {\n",
       "        vertical-align: middle;\n",
       "    }\n",
       "\n",
       "    .dataframe tbody tr th {\n",
       "        vertical-align: top;\n",
       "    }\n",
       "\n",
       "    .dataframe thead th {\n",
       "        text-align: right;\n",
       "    }\n",
       "</style>\n",
       "<table border=\"1\" class=\"dataframe\">\n",
       "  <thead>\n",
       "    <tr style=\"text-align: right;\">\n",
       "      <th></th>\n",
       "      <th>TX_AMOUNT</th>\n",
       "      <th>TX_DURING_WEEKEND</th>\n",
       "      <th>TX_DURING_NIGHT</th>\n",
       "      <th>CUSTOMER_ID_NB_TX_1DAY_WINDOW</th>\n",
       "      <th>CUSTOMER_ID_AVG_AMOUNT_1DAY_WINDOW</th>\n",
       "      <th>CUSTOMER_ID_NB_TX_7DAY_WINDOW</th>\n",
       "      <th>CUSTOMER_ID_AVG_AMOUNT_7DAY_WINDOW</th>\n",
       "      <th>CUSTOMER_ID_NB_TX_30DAY_WINDOW</th>\n",
       "      <th>CUSTOMER_ID_AVG_AMOUNT_30DAY_WINDOW</th>\n",
       "      <th>TERMINAL_ID_NB_TX_1DAY_WINDOW</th>\n",
       "      <th>TERMINAL_ID_RISK_1DAY_WINDOW</th>\n",
       "      <th>TERMINAL_ID_NB_TX_7DAY_WINDOW</th>\n",
       "      <th>TERMINAL_ID_RISK_7DAY_WINDOW</th>\n",
       "      <th>TERMINAL_ID_NB_TX_30DAY_WINDOW</th>\n",
       "      <th>TERMINAL_ID_RISK_30DAY_WINDOW</th>\n",
       "    </tr>\n",
       "  </thead>\n",
       "  <tbody>\n",
       "    <tr>\n",
       "      <th>0</th>\n",
       "      <td>40.77</td>\n",
       "      <td>0</td>\n",
       "      <td>1</td>\n",
       "      <td>2.0</td>\n",
       "      <td>29.005000</td>\n",
       "      <td>24.0</td>\n",
       "      <td>29.191250</td>\n",
       "      <td>105.0</td>\n",
       "      <td>30.141810</td>\n",
       "      <td>1.0</td>\n",
       "      <td>0.0</td>\n",
       "      <td>10.0</td>\n",
       "      <td>0.0</td>\n",
       "      <td>32.0</td>\n",
       "      <td>0.0</td>\n",
       "    </tr>\n",
       "    <tr>\n",
       "      <th>1</th>\n",
       "      <td>9.62</td>\n",
       "      <td>0</td>\n",
       "      <td>1</td>\n",
       "      <td>4.0</td>\n",
       "      <td>25.492500</td>\n",
       "      <td>15.0</td>\n",
       "      <td>19.151333</td>\n",
       "      <td>61.0</td>\n",
       "      <td>18.253607</td>\n",
       "      <td>2.0</td>\n",
       "      <td>0.0</td>\n",
       "      <td>5.0</td>\n",
       "      <td>0.0</td>\n",
       "      <td>27.0</td>\n",
       "      <td>0.0</td>\n",
       "    </tr>\n",
       "    <tr>\n",
       "      <th>2</th>\n",
       "      <td>81.55</td>\n",
       "      <td>0</td>\n",
       "      <td>1</td>\n",
       "      <td>6.0</td>\n",
       "      <td>130.778333</td>\n",
       "      <td>11.0</td>\n",
       "      <td>183.875455</td>\n",
       "      <td>50.0</td>\n",
       "      <td>112.001800</td>\n",
       "      <td>0.0</td>\n",
       "      <td>0.0</td>\n",
       "      <td>12.0</td>\n",
       "      <td>0.0</td>\n",
       "      <td>37.0</td>\n",
       "      <td>0.0</td>\n",
       "    </tr>\n",
       "    <tr>\n",
       "      <th>3</th>\n",
       "      <td>23.10</td>\n",
       "      <td>0</td>\n",
       "      <td>1</td>\n",
       "      <td>8.0</td>\n",
       "      <td>19.600000</td>\n",
       "      <td>24.0</td>\n",
       "      <td>21.201667</td>\n",
       "      <td>93.0</td>\n",
       "      <td>19.987849</td>\n",
       "      <td>2.0</td>\n",
       "      <td>0.0</td>\n",
       "      <td>6.0</td>\n",
       "      <td>0.0</td>\n",
       "      <td>22.0</td>\n",
       "      <td>0.0</td>\n",
       "    </tr>\n",
       "    <tr>\n",
       "      <th>4</th>\n",
       "      <td>59.25</td>\n",
       "      <td>0</td>\n",
       "      <td>1</td>\n",
       "      <td>5.0</td>\n",
       "      <td>84.656000</td>\n",
       "      <td>27.0</td>\n",
       "      <td>80.427407</td>\n",
       "      <td>110.0</td>\n",
       "      <td>74.158455</td>\n",
       "      <td>1.0</td>\n",
       "      <td>0.0</td>\n",
       "      <td>10.0</td>\n",
       "      <td>0.0</td>\n",
       "      <td>38.0</td>\n",
       "      <td>0.0</td>\n",
       "    </tr>\n",
       "    <tr>\n",
       "      <th>...</th>\n",
       "      <td>...</td>\n",
       "      <td>...</td>\n",
       "      <td>...</td>\n",
       "      <td>...</td>\n",
       "      <td>...</td>\n",
       "      <td>...</td>\n",
       "      <td>...</td>\n",
       "      <td>...</td>\n",
       "      <td>...</td>\n",
       "      <td>...</td>\n",
       "      <td>...</td>\n",
       "      <td>...</td>\n",
       "      <td>...</td>\n",
       "      <td>...</td>\n",
       "      <td>...</td>\n",
       "    </tr>\n",
       "    <tr>\n",
       "      <th>201290</th>\n",
       "      <td>16.72</td>\n",
       "      <td>0</td>\n",
       "      <td>0</td>\n",
       "      <td>1.0</td>\n",
       "      <td>16.720000</td>\n",
       "      <td>7.0</td>\n",
       "      <td>19.210000</td>\n",
       "      <td>21.0</td>\n",
       "      <td>22.987619</td>\n",
       "      <td>1.0</td>\n",
       "      <td>0.0</td>\n",
       "      <td>3.0</td>\n",
       "      <td>0.0</td>\n",
       "      <td>20.0</td>\n",
       "      <td>0.0</td>\n",
       "    </tr>\n",
       "    <tr>\n",
       "      <th>201291</th>\n",
       "      <td>38.16</td>\n",
       "      <td>0</td>\n",
       "      <td>0</td>\n",
       "      <td>7.0</td>\n",
       "      <td>40.305714</td>\n",
       "      <td>28.0</td>\n",
       "      <td>46.151429</td>\n",
       "      <td>97.0</td>\n",
       "      <td>45.018144</td>\n",
       "      <td>2.0</td>\n",
       "      <td>0.0</td>\n",
       "      <td>13.0</td>\n",
       "      <td>0.0</td>\n",
       "      <td>42.0</td>\n",
       "      <td>0.0</td>\n",
       "    </tr>\n",
       "    <tr>\n",
       "      <th>201292</th>\n",
       "      <td>69.85</td>\n",
       "      <td>0</td>\n",
       "      <td>0</td>\n",
       "      <td>3.0</td>\n",
       "      <td>92.500000</td>\n",
       "      <td>24.0</td>\n",
       "      <td>95.770417</td>\n",
       "      <td>101.0</td>\n",
       "      <td>89.886040</td>\n",
       "      <td>0.0</td>\n",
       "      <td>0.0</td>\n",
       "      <td>3.0</td>\n",
       "      <td>0.0</td>\n",
       "      <td>34.0</td>\n",
       "      <td>0.0</td>\n",
       "    </tr>\n",
       "    <tr>\n",
       "      <th>201293</th>\n",
       "      <td>14.99</td>\n",
       "      <td>0</td>\n",
       "      <td>0</td>\n",
       "      <td>3.0</td>\n",
       "      <td>22.343333</td>\n",
       "      <td>19.0</td>\n",
       "      <td>18.450000</td>\n",
       "      <td>77.0</td>\n",
       "      <td>15.848052</td>\n",
       "      <td>3.0</td>\n",
       "      <td>0.0</td>\n",
       "      <td>7.0</td>\n",
       "      <td>0.0</td>\n",
       "      <td>20.0</td>\n",
       "      <td>0.0</td>\n",
       "    </tr>\n",
       "    <tr>\n",
       "      <th>201294</th>\n",
       "      <td>55.99</td>\n",
       "      <td>0</td>\n",
       "      <td>0</td>\n",
       "      <td>1.0</td>\n",
       "      <td>55.990000</td>\n",
       "      <td>12.0</td>\n",
       "      <td>37.453333</td>\n",
       "      <td>47.0</td>\n",
       "      <td>37.539149</td>\n",
       "      <td>0.0</td>\n",
       "      <td>0.0</td>\n",
       "      <td>7.0</td>\n",
       "      <td>0.0</td>\n",
       "      <td>23.0</td>\n",
       "      <td>0.0</td>\n",
       "    </tr>\n",
       "  </tbody>\n",
       "</table>\n",
       "<p>201295 rows × 15 columns</p>\n",
       "</div>"
      ],
      "text/plain": [
       "        TX_AMOUNT  TX_DURING_WEEKEND  TX_DURING_NIGHT  \\\n",
       "0           40.77                  0                1   \n",
       "1            9.62                  0                1   \n",
       "2           81.55                  0                1   \n",
       "3           23.10                  0                1   \n",
       "4           59.25                  0                1   \n",
       "...           ...                ...              ...   \n",
       "201290      16.72                  0                0   \n",
       "201291      38.16                  0                0   \n",
       "201292      69.85                  0                0   \n",
       "201293      14.99                  0                0   \n",
       "201294      55.99                  0                0   \n",
       "\n",
       "        CUSTOMER_ID_NB_TX_1DAY_WINDOW  CUSTOMER_ID_AVG_AMOUNT_1DAY_WINDOW  \\\n",
       "0                                 2.0                           29.005000   \n",
       "1                                 4.0                           25.492500   \n",
       "2                                 6.0                          130.778333   \n",
       "3                                 8.0                           19.600000   \n",
       "4                                 5.0                           84.656000   \n",
       "...                               ...                                 ...   \n",
       "201290                            1.0                           16.720000   \n",
       "201291                            7.0                           40.305714   \n",
       "201292                            3.0                           92.500000   \n",
       "201293                            3.0                           22.343333   \n",
       "201294                            1.0                           55.990000   \n",
       "\n",
       "        CUSTOMER_ID_NB_TX_7DAY_WINDOW  CUSTOMER_ID_AVG_AMOUNT_7DAY_WINDOW  \\\n",
       "0                                24.0                           29.191250   \n",
       "1                                15.0                           19.151333   \n",
       "2                                11.0                          183.875455   \n",
       "3                                24.0                           21.201667   \n",
       "4                                27.0                           80.427407   \n",
       "...                               ...                                 ...   \n",
       "201290                            7.0                           19.210000   \n",
       "201291                           28.0                           46.151429   \n",
       "201292                           24.0                           95.770417   \n",
       "201293                           19.0                           18.450000   \n",
       "201294                           12.0                           37.453333   \n",
       "\n",
       "        CUSTOMER_ID_NB_TX_30DAY_WINDOW  CUSTOMER_ID_AVG_AMOUNT_30DAY_WINDOW  \\\n",
       "0                                105.0                            30.141810   \n",
       "1                                 61.0                            18.253607   \n",
       "2                                 50.0                           112.001800   \n",
       "3                                 93.0                            19.987849   \n",
       "4                                110.0                            74.158455   \n",
       "...                                ...                                  ...   \n",
       "201290                            21.0                            22.987619   \n",
       "201291                            97.0                            45.018144   \n",
       "201292                           101.0                            89.886040   \n",
       "201293                            77.0                            15.848052   \n",
       "201294                            47.0                            37.539149   \n",
       "\n",
       "        TERMINAL_ID_NB_TX_1DAY_WINDOW  TERMINAL_ID_RISK_1DAY_WINDOW  \\\n",
       "0                                 1.0                           0.0   \n",
       "1                                 2.0                           0.0   \n",
       "2                                 0.0                           0.0   \n",
       "3                                 2.0                           0.0   \n",
       "4                                 1.0                           0.0   \n",
       "...                               ...                           ...   \n",
       "201290                            1.0                           0.0   \n",
       "201291                            2.0                           0.0   \n",
       "201292                            0.0                           0.0   \n",
       "201293                            3.0                           0.0   \n",
       "201294                            0.0                           0.0   \n",
       "\n",
       "        TERMINAL_ID_NB_TX_7DAY_WINDOW  TERMINAL_ID_RISK_7DAY_WINDOW  \\\n",
       "0                                10.0                           0.0   \n",
       "1                                 5.0                           0.0   \n",
       "2                                12.0                           0.0   \n",
       "3                                 6.0                           0.0   \n",
       "4                                10.0                           0.0   \n",
       "...                               ...                           ...   \n",
       "201290                            3.0                           0.0   \n",
       "201291                           13.0                           0.0   \n",
       "201292                            3.0                           0.0   \n",
       "201293                            7.0                           0.0   \n",
       "201294                            7.0                           0.0   \n",
       "\n",
       "        TERMINAL_ID_NB_TX_30DAY_WINDOW  TERMINAL_ID_RISK_30DAY_WINDOW  \n",
       "0                                 32.0                            0.0  \n",
       "1                                 27.0                            0.0  \n",
       "2                                 37.0                            0.0  \n",
       "3                                 22.0                            0.0  \n",
       "4                                 38.0                            0.0  \n",
       "...                                ...                            ...  \n",
       "201290                            20.0                            0.0  \n",
       "201291                            42.0                            0.0  \n",
       "201292                            34.0                            0.0  \n",
       "201293                            20.0                            0.0  \n",
       "201294                            23.0                            0.0  \n",
       "\n",
       "[201295 rows x 15 columns]"
      ]
     },
     "execution_count": 175,
     "metadata": {},
     "output_type": "execute_result"
    }
   ],
   "source": [
    "X"
   ]
  },
  {
   "cell_type": "code",
   "execution_count": 177,
   "metadata": {},
   "outputs": [
    {
     "data": {
      "text/plain": [
       "14.0"
      ]
     },
     "execution_count": 177,
     "metadata": {},
     "output_type": "execute_result"
    }
   ],
   "source": [
    "X['CUSTOMER_ID_NB_TX_1DAY_WINDOW'].max()"
   ]
  },
  {
   "cell_type": "code",
   "execution_count": 97,
   "metadata": {},
   "outputs": [
    {
     "data": {
      "image/png": "[encoded data removed]",
      "text/plain": [
       "<Figure size 432x288 with 1 Axes>"
      ]
     },
     "metadata": {},
     "output_type": "display_data"
    }
   ],
   "source": [
    "sns.countplot(x=\"TX_FRAUD\", data=finaldata);"
   ]
  },
  {
   "cell_type": "code",
   "execution_count": 98,
   "metadata": {},
   "outputs": [],
   "source": [
    "from imblearn.under_sampling import NearMiss"
   ]
  },
  {
   "cell_type": "code",
   "execution_count": 99,
   "metadata": {},
   "outputs": [],
   "source": [
    "nm = NearMiss()"
   ]
  },
  {
   "cell_type": "code",
   "execution_count": 100,
   "metadata": {},
   "outputs": [],
   "source": [
    "X_res,y_res=nm.fit_resample(X,y)"
   ]
  },
  {
   "cell_type": "code",
   "execution_count": 101,
   "metadata": {},
   "outputs": [
    {
     "name": "stdout",
     "output_type": "stream",
     "text": [
      "Original dataset shape Counter({0: 199503, 1: 1792})\n",
      "Resampled dataset shape Counter({0: 1792, 1: 1792})\n"
     ]
    }
   ],
   "source": [
    "from collections import Counter\n",
    "print('Original dataset shape {}'.format(Counter(y)))\n",
    "print('Resampled dataset shape {}'.format(Counter(y_res)))"
   ]
  },
  {
   "cell_type": "markdown",
   "metadata": {},
   "source": [
    "### Applying Logistic Regression on Undersampling"
   ]
  },
  {
   "cell_type": "code",
   "execution_count": 102,
   "metadata": {},
   "outputs": [],
   "source": [
    "from sklearn.linear_model import LogisticRegression\n",
    "from sklearn.metrics import accuracy_score,confusion_matrix,classification_report,roc_curve, roc_auc_score"
   ]
  },
  {
   "cell_type": "code",
   "execution_count": 103,
   "metadata": {},
   "outputs": [],
   "source": [
    "from sklearn.model_selection import train_test_split\n",
    "X_train,X_test,y_train,y_test=train_test_split(X_res,y_res,train_size=0.7)\n"
   ]
  },
  {
   "cell_type": "code",
   "execution_count": 104,
   "metadata": {},
   "outputs": [
    {
     "name": "stderr",
     "output_type": "stream",
     "text": [
      "C:\\Users\\30ris\\AppData\\Roaming\\Python\\Python37\\site-packages\\sklearn\\linear_model\\_logistic.py:818: ConvergenceWarning: lbfgs failed to converge (status=1):\n",
      "STOP: TOTAL NO. of ITERATIONS REACHED LIMIT.\n",
      "\n",
      "Increase the number of iterations (max_iter) or scale the data as shown in:\n",
      "    https://scikit-learn.org/stable/modules/preprocessing.html\n",
      "Please also refer to the documentation for alternative solver options:\n",
      "    https://scikit-learn.org/stable/modules/linear_model.html#logistic-regression\n",
      "  extra_warning_msg=_LOGISTIC_SOLVER_CONVERGENCE_MSG,\n"
     ]
    },
    {
     "data": {
      "text/plain": [
       "LogisticRegression()"
      ]
     },
     "execution_count": 104,
     "metadata": {},
     "output_type": "execute_result"
    }
   ],
   "source": [
    "log_reg = LogisticRegression()\n",
    "log_reg.fit(X_train,y_train)"
   ]
  },
  {
   "cell_type": "code",
   "execution_count": 105,
   "metadata": {},
   "outputs": [
    {
     "name": "stdout",
     "output_type": "stream",
     "text": [
      "Training Accuracy of Logistic Regression on Undersampling\n",
      "[[1221   32]\n",
      " [  89 1166]]\n",
      "0.9517543859649122\n",
      "              precision    recall  f1-score   support\n",
      "\n",
      "           0       0.93      0.97      0.95      1253\n",
      "           1       0.97      0.93      0.95      1255\n",
      "\n",
      "    accuracy                           0.95      2508\n",
      "   macro avg       0.95      0.95      0.95      2508\n",
      "weighted avg       0.95      0.95      0.95      2508\n",
      "\n"
     ]
    }
   ],
   "source": [
    "lrtr_pred=log_reg.predict(X_train)\n",
    "print(\"Training Accuracy of Logistic Regression on Undersampling\")\n",
    "print(confusion_matrix(y_train,lrtr_pred))\n",
    "print(accuracy_score(y_train,lrtr_pred))\n",
    "print(classification_report(y_train,lrtr_pred))"
   ]
  },
  {
   "cell_type": "code",
   "execution_count": 106,
   "metadata": {},
   "outputs": [
    {
     "name": "stdout",
     "output_type": "stream",
     "text": [
      "Testing Accuracy of Logistic Regression on Undersampling\n",
      "[[535   4]\n",
      " [ 43 494]]\n",
      "0.9563197026022305\n",
      "              precision    recall  f1-score   support\n",
      "\n",
      "           0       0.93      0.99      0.96       539\n",
      "           1       0.99      0.92      0.95       537\n",
      "\n",
      "    accuracy                           0.96      1076\n",
      "   macro avg       0.96      0.96      0.96      1076\n",
      "weighted avg       0.96      0.96      0.96      1076\n",
      "\n"
     ]
    }
   ],
   "source": [
    "lrts_pred=log_reg.predict(X_test)\n",
    "print(\"Testing Accuracy of Logistic Regression on Undersampling\")\n",
    "print(confusion_matrix(y_test,lrts_pred))\n",
    "print(accuracy_score(y_test,lrts_pred))\n",
    "print(classification_report(y_test,lrts_pred))"
   ]
  },
  {
   "cell_type": "markdown",
   "metadata": {},
   "source": [
    "### Applying Decision Tree on Undersampling"
   ]
  },
  {
   "cell_type": "code",
   "execution_count": 107,
   "metadata": {},
   "outputs": [],
   "source": [
    "from sklearn.tree import DecisionTreeClassifier"
   ]
  },
  {
   "cell_type": "code",
   "execution_count": 108,
   "metadata": {},
   "outputs": [
    {
     "data": {
      "text/plain": [
       "DecisionTreeClassifier()"
      ]
     },
     "execution_count": 108,
     "metadata": {},
     "output_type": "execute_result"
    }
   ],
   "source": [
    "dtree = DecisionTreeClassifier()\n",
    "dtree.fit(X_train,y_train)"
   ]
  },
  {
   "cell_type": "code",
   "execution_count": 109,
   "metadata": {},
   "outputs": [
    {
     "name": "stdout",
     "output_type": "stream",
     "text": [
      "Training Accuracy of Decision Tree on Undersampling\n",
      "[[1253    0]\n",
      " [   0 1255]]\n",
      "1.0\n",
      "              precision    recall  f1-score   support\n",
      "\n",
      "           0       1.00      1.00      1.00      1253\n",
      "           1       1.00      1.00      1.00      1255\n",
      "\n",
      "    accuracy                           1.00      2508\n",
      "   macro avg       1.00      1.00      1.00      2508\n",
      "weighted avg       1.00      1.00      1.00      2508\n",
      "\n"
     ]
    }
   ],
   "source": [
    "dttr_pred=dtree.predict(X_train)\n",
    "print(\"Training Accuracy of Decision Tree on Undersampling\")\n",
    "print(confusion_matrix(y_train,dttr_pred))\n",
    "print(accuracy_score(y_train,dttr_pred))\n",
    "print(classification_report(y_train,dttr_pred))"
   ]
  },
  {
   "cell_type": "code",
   "execution_count": 110,
   "metadata": {},
   "outputs": [
    {
     "name": "stdout",
     "output_type": "stream",
     "text": [
      "Testing Accuracy of Decision Tree on Undersampling\n",
      "[[515  24]\n",
      " [ 24 513]]\n",
      "0.9553903345724907\n",
      "              precision    recall  f1-score   support\n",
      "\n",
      "           0       0.96      0.96      0.96       539\n",
      "           1       0.96      0.96      0.96       537\n",
      "\n",
      "    accuracy                           0.96      1076\n",
      "   macro avg       0.96      0.96      0.96      1076\n",
      "weighted avg       0.96      0.96      0.96      1076\n",
      "\n"
     ]
    }
   ],
   "source": [
    "dtts_pred=dtree.predict(X_test)\n",
    "print(\"Testing Accuracy of Decision Tree on Undersampling\")\n",
    "print(confusion_matrix(y_test,dtts_pred))\n",
    "print(accuracy_score(y_test,dtts_pred))\n",
    "print(classification_report(y_test,dtts_pred))"
   ]
  },
  {
   "cell_type": "markdown",
   "metadata": {},
   "source": [
    "### Applying Random Forest on Undersampling"
   ]
  },
  {
   "cell_type": "code",
   "execution_count": 111,
   "metadata": {},
   "outputs": [
    {
     "data": {
      "text/plain": [
       "RandomForestClassifier(class_weight={0: 1, 1: 100})"
      ]
     },
     "execution_count": 111,
     "metadata": {},
     "output_type": "execute_result"
    }
   ],
   "source": [
    "class_weight=dict({0:1,1:100})\n",
    "from sklearn.ensemble import RandomForestClassifier\n",
    "rf=RandomForestClassifier(class_weight=class_weight)\n",
    "rf.fit(X_train,y_train)"
   ]
  },
  {
   "cell_type": "code",
   "execution_count": 112,
   "metadata": {},
   "outputs": [
    {
     "name": "stdout",
     "output_type": "stream",
     "text": [
      "Training Accuracy of Random Forest on Undersampling\n",
      "[[1253    0]\n",
      " [   0 1255]]\n",
      "1.0\n",
      "              precision    recall  f1-score   support\n",
      "\n",
      "           0       1.00      1.00      1.00      1253\n",
      "           1       1.00      1.00      1.00      1255\n",
      "\n",
      "    accuracy                           1.00      2508\n",
      "   macro avg       1.00      1.00      1.00      2508\n",
      "weighted avg       1.00      1.00      1.00      2508\n",
      "\n"
     ]
    }
   ],
   "source": [
    "rftr_pred=rf.predict(X_train)\n",
    "print(\"Training Accuracy of Random Forest on Undersampling\")\n",
    "print(confusion_matrix(y_train,rftr_pred))\n",
    "print(accuracy_score(y_train,rftr_pred))\n",
    "print(classification_report(y_train,rftr_pred))"
   ]
  },
  {
   "cell_type": "code",
   "execution_count": 113,
   "metadata": {},
   "outputs": [
    {
     "name": "stdout",
     "output_type": "stream",
     "text": [
      "Testing Accuracy of Random Forest on Undersampling\n",
      "[[533   6]\n",
      " [ 21 516]]\n",
      "0.974907063197026\n",
      "              precision    recall  f1-score   support\n",
      "\n",
      "           0       0.96      0.99      0.98       539\n",
      "           1       0.99      0.96      0.97       537\n",
      "\n",
      "    accuracy                           0.97      1076\n",
      "   macro avg       0.98      0.97      0.97      1076\n",
      "weighted avg       0.98      0.97      0.97      1076\n",
      "\n"
     ]
    }
   ],
   "source": [
    "rfts_pred=rf.predict(X_test)\n",
    "print(\"Testing Accuracy of Random Forest on Undersampling\")\n",
    "print(confusion_matrix(y_test,rfts_pred))\n",
    "print(accuracy_score(y_test,rfts_pred))\n",
    "print(classification_report(y_test,rfts_pred))"
   ]
  },
  {
   "cell_type": "markdown",
   "metadata": {},
   "source": [
    "### Applying  XGBoost on Undersampling"
   ]
  },
  {
   "cell_type": "code",
   "execution_count": 114,
   "metadata": {},
   "outputs": [],
   "source": [
    "import xgboost as xgb\n",
    "from xgboost import XGBClassifier"
   ]
  },
  {
   "cell_type": "code",
   "execution_count": 115,
   "metadata": {},
   "outputs": [
    {
     "name": "stdout",
     "output_type": "stream",
     "text": [
      "[10:35:05] WARNING: C:/Users/Administrator/workspace/xgboost-win64_release_1.5.0/src/learner.cc:1115: Starting in XGBoost 1.3.0, the default evaluation metric used with the objective 'binary:logistic' was changed from 'error' to 'logloss'. Explicitly set eval_metric if you'd like to restore the old behavior.\n"
     ]
    },
    {
     "name": "stderr",
     "output_type": "stream",
     "text": [
      "C:\\Users\\30ris\\anaconda3\\envs\\ftd\\lib\\site-packages\\xgboost\\sklearn.py:1224: UserWarning: The use of label encoder in XGBClassifier is deprecated and will be removed in a future release. To remove this warning, do the following: 1) Pass option use_label_encoder=False when constructing XGBClassifier object; and 2) Encode your labels (y) as integers starting with 0, i.e. 0, 1, 2, ..., [num_class - 1].\n",
      "  warnings.warn(label_encoder_deprecation_msg, UserWarning)\n"
     ]
    },
    {
     "data": {
      "text/plain": [
       "XGBClassifier(base_score=0.5, booster='gbtree', colsample_bylevel=1,\n",
       "              colsample_bynode=1, colsample_bytree=1, enable_categorical=False,\n",
       "              gamma=0, gpu_id=-1, importance_type=None,\n",
       "              interaction_constraints='', learning_rate=0.300000012,\n",
       "              max_delta_step=0, max_depth=6, min_child_weight=1, missing=nan,\n",
       "              monotone_constraints='()', n_estimators=100, n_jobs=8,\n",
       "              num_parallel_tree=1, predictor='auto', random_state=0,\n",
       "              reg_alpha=0, reg_lambda=1, scale_pos_weight=1, subsample=1,\n",
       "              tree_method='exact', validate_parameters=1, verbosity=None)"
      ]
     },
     "execution_count": 115,
     "metadata": {},
     "output_type": "execute_result"
    }
   ],
   "source": [
    "xgb = XGBClassifier(objective='binary:logistic')\n",
    "xgb.fit(X_train, y_train)"
   ]
  },
  {
   "cell_type": "code",
   "execution_count": 116,
   "metadata": {},
   "outputs": [
    {
     "name": "stdout",
     "output_type": "stream",
     "text": [
      "Training Accuracy of XGBOOST on Undersampling\n",
      "[[1253    0]\n",
      " [   0 1255]]\n",
      "1.0\n",
      "              precision    recall  f1-score   support\n",
      "\n",
      "           0       1.00      1.00      1.00      1253\n",
      "           1       1.00      1.00      1.00      1255\n",
      "\n",
      "    accuracy                           1.00      2508\n",
      "   macro avg       1.00      1.00      1.00      2508\n",
      "weighted avg       1.00      1.00      1.00      2508\n",
      "\n"
     ]
    }
   ],
   "source": [
    "xgbtr_pred=rf.predict(X_train)\n",
    "print(\"Training Accuracy of XGBOOST on Undersampling\")\n",
    "print(confusion_matrix(y_train,xgbtr_pred))\n",
    "print(accuracy_score(y_train,xgbtr_pred))\n",
    "print(classification_report(y_train,xgbtr_pred))"
   ]
  },
  {
   "cell_type": "code",
   "execution_count": 117,
   "metadata": {},
   "outputs": [
    {
     "name": "stdout",
     "output_type": "stream",
     "text": [
      "Testing Accuracy of XGBOOST on Undersampling\n",
      "[[533   6]\n",
      " [ 21 516]]\n",
      "0.974907063197026\n",
      "              precision    recall  f1-score   support\n",
      "\n",
      "           0       0.96      0.99      0.98       539\n",
      "           1       0.99      0.96      0.97       537\n",
      "\n",
      "    accuracy                           0.97      1076\n",
      "   macro avg       0.98      0.97      0.97      1076\n",
      "weighted avg       0.98      0.97      0.97      1076\n",
      "\n"
     ]
    }
   ],
   "source": [
    "xgbts_pred=rf.predict(X_test)\n",
    "print(\"Testing Accuracy of XGBOOST on Undersampling\")\n",
    "print(confusion_matrix(y_test,xgbts_pred))\n",
    "print(accuracy_score(y_test,xgbts_pred))\n",
    "print(classification_report(y_test,xgbts_pred))"
   ]
  },
  {
   "cell_type": "markdown",
   "metadata": {},
   "source": [
    "### ROC & AUC Curve on undersampling of all models of testing prediction"
   ]
  },
  {
   "cell_type": "code",
   "execution_count": 118,
   "metadata": {},
   "outputs": [
    {
     "data": {
      "image/png": "[encoded data removed]",
      "text/plain": [
       "<Figure size 500x500 with 1 Axes>"
      ]
     },
     "metadata": {},
     "output_type": "display_data"
    }
   ],
   "source": [
    "from sklearn.metrics import roc_curve, auc\n",
    "\n",
    "logistic_fpr, logistic_tpr, threshold = roc_curve(y_test, lrts_pred)\n",
    "auc_logistic = auc(logistic_fpr, logistic_tpr)\n",
    "\n",
    "dt_fpr, dt_tpr, threshold = roc_curve(y_test, dtts_pred)\n",
    "auc_dt = auc(dt_fpr, dt_tpr)\n",
    "\n",
    "rf_fpr, rf_tpr, threshold = roc_curve(y_test, rfts_pred)\n",
    "auc_rf = auc(rf_fpr, rf_tpr)\n",
    "\n",
    "xgb_fpr, xgb_tpr, threshold = roc_curve(y_test, xgbts_pred)\n",
    "auc_xgb = auc(xgb_fpr, xgb_tpr)\n",
    "\n",
    "plt.figure(figsize=(5, 5), dpi=100)\n",
    "plt.plot(dt_fpr, dt_tpr, linestyle='-', label='Decision Tree (auc = %0.3f)' % auc_dt)\n",
    "plt.plot(logistic_fpr, logistic_tpr, marker='.', label='Logistic (auc = %0.3f)' % auc_logistic)\n",
    "plt.plot(rf_fpr, rf_tpr, linestyle='-', label='Random Forest (auc = %0.3f)' % auc_rf)\n",
    "plt.plot(xgb_fpr, xgb_tpr, linestyle='-', label='XGBoost (auc = %0.3f)' % auc_xgb)\n",
    "\n",
    "plt.xlabel('False Positive Rate -->')\n",
    "plt.ylabel('True Positive Rate -->')\n",
    "\n",
    "plt.legend()\n",
    "\n",
    "plt.show()"
   ]
  },
  {
   "cell_type": "markdown",
   "metadata": {},
   "source": [
    "### We have applied logistic regression,decision tree and random forest on undersampled dataset and we have found that decision tree and random forest has given very good accuracy"
   ]
  },
  {
   "cell_type": "markdown",
   "metadata": {},
   "source": [
    "### UpSampling"
   ]
  },
  {
   "cell_type": "code",
   "execution_count": 119,
   "metadata": {},
   "outputs": [],
   "source": [
    "from imblearn.combine import SMOTETomek"
   ]
  },
  {
   "cell_type": "code",
   "execution_count": 120,
   "metadata": {},
   "outputs": [],
   "source": [
    "smk = SMOTETomek(random_state=42)\n",
    "Xu_res,yu_res=smk.fit_resample(X,y)"
   ]
  },
  {
   "cell_type": "code",
   "execution_count": 121,
   "metadata": {},
   "outputs": [
    {
     "name": "stdout",
     "output_type": "stream",
     "text": [
      "Original dataset shape Counter({0: 199503, 1: 1792})\n",
      "Resampled dataset shape Counter({0: 199503, 1: 199503})\n"
     ]
    }
   ],
   "source": [
    "from collections import Counter\n",
    "print('Original dataset shape {}'.format(Counter(y)))\n",
    "print('Resampled dataset shape {}'.format(Counter(yu_res)))"
   ]
  },
  {
   "cell_type": "markdown",
   "metadata": {},
   "source": [
    "### Applying Logistic Regression on Upsampling"
   ]
  },
  {
   "cell_type": "code",
   "execution_count": 122,
   "metadata": {},
   "outputs": [],
   "source": [
    "from sklearn.linear_model import LogisticRegression\n",
    "from sklearn.metrics import accuracy_score,confusion_matrix,classification_report,roc_curve, roc_auc_score"
   ]
  },
  {
   "cell_type": "code",
   "execution_count": 123,
   "metadata": {},
   "outputs": [],
   "source": [
    "from sklearn.model_selection import train_test_split\n",
    "X_train,X_test,y_train,y_test=train_test_split(Xu_res,yu_res,train_size=0.7)\n"
   ]
  },
  {
   "cell_type": "code",
   "execution_count": 124,
   "metadata": {},
   "outputs": [
    {
     "name": "stderr",
     "output_type": "stream",
     "text": [
      "C:\\Users\\30ris\\AppData\\Roaming\\Python\\Python37\\site-packages\\sklearn\\linear_model\\_logistic.py:818: ConvergenceWarning: lbfgs failed to converge (status=1):\n",
      "STOP: TOTAL NO. of ITERATIONS REACHED LIMIT.\n",
      "\n",
      "Increase the number of iterations (max_iter) or scale the data as shown in:\n",
      "    https://scikit-learn.org/stable/modules/preprocessing.html\n",
      "Please also refer to the documentation for alternative solver options:\n",
      "    https://scikit-learn.org/stable/modules/linear_model.html#logistic-regression\n",
      "  extra_warning_msg=_LOGISTIC_SOLVER_CONVERGENCE_MSG,\n"
     ]
    },
    {
     "data": {
      "text/plain": [
       "LogisticRegression()"
      ]
     },
     "execution_count": 124,
     "metadata": {},
     "output_type": "execute_result"
    }
   ],
   "source": [
    "log_reg = LogisticRegression()\n",
    "log_reg.fit(X_train,y_train)"
   ]
  },
  {
   "cell_type": "code",
   "execution_count": 125,
   "metadata": {},
   "outputs": [
    {
     "name": "stdout",
     "output_type": "stream",
     "text": [
      "Training Accuracy of Logistic Regression on Upsampling\n",
      "[[134080   5665]\n",
      " [ 20357 119202]]\n",
      "0.9068326984217913\n",
      "              precision    recall  f1-score   support\n",
      "\n",
      "           0       0.87      0.96      0.91    139745\n",
      "           1       0.95      0.85      0.90    139559\n",
      "\n",
      "    accuracy                           0.91    279304\n",
      "   macro avg       0.91      0.91      0.91    279304\n",
      "weighted avg       0.91      0.91      0.91    279304\n",
      "\n"
     ]
    }
   ],
   "source": [
    "lrtr_pred=log_reg.predict(X_train)\n",
    "print(\"Training Accuracy of Logistic Regression on Upsampling\")\n",
    "print(confusion_matrix(y_train,lrtr_pred))\n",
    "print(accuracy_score(y_train,lrtr_pred))\n",
    "print(classification_report(y_train,lrtr_pred))"
   ]
  },
  {
   "cell_type": "code",
   "execution_count": 126,
   "metadata": {},
   "outputs": [
    {
     "name": "stdout",
     "output_type": "stream",
     "text": [
      "Testing Accuracy of Logistic Regression on Upsampling\n",
      "[[57319  2439]\n",
      " [ 8655 51289]]\n",
      "0.9073198442799619\n",
      "              precision    recall  f1-score   support\n",
      "\n",
      "           0       0.87      0.96      0.91     59758\n",
      "           1       0.95      0.86      0.90     59944\n",
      "\n",
      "    accuracy                           0.91    119702\n",
      "   macro avg       0.91      0.91      0.91    119702\n",
      "weighted avg       0.91      0.91      0.91    119702\n",
      "\n"
     ]
    }
   ],
   "source": [
    "lrts_pred=log_reg.predict(X_test)\n",
    "print(\"Testing Accuracy of Logistic Regression on Upsampling\")\n",
    "print(confusion_matrix(y_test,lrts_pred))\n",
    "print(accuracy_score(y_test,lrts_pred))\n",
    "print(classification_report(y_test,lrts_pred))"
   ]
  },
  {
   "cell_type": "markdown",
   "metadata": {},
   "source": [
    "### Applying Decision Tree on Upsampling"
   ]
  },
  {
   "cell_type": "code",
   "execution_count": 127,
   "metadata": {},
   "outputs": [],
   "source": [
    "from sklearn.tree import DecisionTreeClassifier"
   ]
  },
  {
   "cell_type": "code",
   "execution_count": 128,
   "metadata": {},
   "outputs": [
    {
     "data": {
      "text/plain": [
       "DecisionTreeClassifier()"
      ]
     },
     "execution_count": 128,
     "metadata": {},
     "output_type": "execute_result"
    }
   ],
   "source": [
    "dtree = DecisionTreeClassifier()\n",
    "dtree.fit(X_train,y_train)"
   ]
  },
  {
   "cell_type": "code",
   "execution_count": 129,
   "metadata": {},
   "outputs": [
    {
     "name": "stdout",
     "output_type": "stream",
     "text": [
      "Training Accuracy of Decision Tree on Upsampling\n",
      "[[139745      0]\n",
      " [     0 139559]]\n",
      "1.0\n",
      "              precision    recall  f1-score   support\n",
      "\n",
      "           0       1.00      1.00      1.00    139745\n",
      "           1       1.00      1.00      1.00    139559\n",
      "\n",
      "    accuracy                           1.00    279304\n",
      "   macro avg       1.00      1.00      1.00    279304\n",
      "weighted avg       1.00      1.00      1.00    279304\n",
      "\n"
     ]
    }
   ],
   "source": [
    "dttr_pred=dtree.predict(X_train)\n",
    "print(\"Training Accuracy of Decision Tree on Upsampling\")\n",
    "print(confusion_matrix(y_train,dttr_pred))\n",
    "print(accuracy_score(y_train,dttr_pred))\n",
    "print(classification_report(y_train,dttr_pred))"
   ]
  },
  {
   "cell_type": "code",
   "execution_count": 130,
   "metadata": {},
   "outputs": [
    {
     "name": "stdout",
     "output_type": "stream",
     "text": [
      "Testing Accuracy of Decision Tree on Upsampling\n",
      "[[59345   413]\n",
      " [  259 59685]]\n",
      "0.9943860587124693\n",
      "              precision    recall  f1-score   support\n",
      "\n",
      "           0       1.00      0.99      0.99     59758\n",
      "           1       0.99      1.00      0.99     59944\n",
      "\n",
      "    accuracy                           0.99    119702\n",
      "   macro avg       0.99      0.99      0.99    119702\n",
      "weighted avg       0.99      0.99      0.99    119702\n",
      "\n"
     ]
    }
   ],
   "source": [
    "dtts_pred=dtree.predict(X_test)\n",
    "print(\"Testing Accuracy of Decision Tree on Upsampling\")\n",
    "print(confusion_matrix(y_test,dtts_pred))\n",
    "print(accuracy_score(y_test,dtts_pred))\n",
    "print(classification_report(y_test,dtts_pred))"
   ]
  },
  {
   "cell_type": "markdown",
   "metadata": {},
   "source": [
    "### Applying Random Forest on Upsampling"
   ]
  },
  {
   "cell_type": "code",
   "execution_count": 131,
   "metadata": {},
   "outputs": [
    {
     "data": {
      "text/plain": [
       "RandomForestClassifier(class_weight={0: 1, 1: 100})"
      ]
     },
     "execution_count": 131,
     "metadata": {},
     "output_type": "execute_result"
    }
   ],
   "source": [
    "class_weight=dict({0:1,1:100})\n",
    "from sklearn.ensemble import RandomForestClassifier\n",
    "rf=RandomForestClassifier(class_weight=class_weight)\n",
    "rf.fit(X_train,y_train)"
   ]
  },
  {
   "cell_type": "code",
   "execution_count": 132,
   "metadata": {},
   "outputs": [
    {
     "name": "stdout",
     "output_type": "stream",
     "text": [
      "Training Accuracy of Random Forest on Upsampling\n",
      "[[139745      0]\n",
      " [     0 139559]]\n",
      "1.0\n",
      "              precision    recall  f1-score   support\n",
      "\n",
      "           0       1.00      1.00      1.00    139745\n",
      "           1       1.00      1.00      1.00    139559\n",
      "\n",
      "    accuracy                           1.00    279304\n",
      "   macro avg       1.00      1.00      1.00    279304\n",
      "weighted avg       1.00      1.00      1.00    279304\n",
      "\n"
     ]
    }
   ],
   "source": [
    "rftr_pred=rf.predict(X_train)\n",
    "print(\"Training Accuracy of Random Forest on Upsampling\")\n",
    "print(confusion_matrix(y_train,rftr_pred))\n",
    "print(accuracy_score(y_train,rftr_pred))\n",
    "print(classification_report(y_train,rftr_pred))"
   ]
  },
  {
   "cell_type": "code",
   "execution_count": 133,
   "metadata": {},
   "outputs": [
    {
     "name": "stdout",
     "output_type": "stream",
     "text": [
      "Testing Accuracy of Random Forest on Upsampling\n",
      "[[59688    70]\n",
      " [  207 59737]]\n",
      "0.997685920034753\n",
      "              precision    recall  f1-score   support\n",
      "\n",
      "           0       1.00      1.00      1.00     59758\n",
      "           1       1.00      1.00      1.00     59944\n",
      "\n",
      "    accuracy                           1.00    119702\n",
      "   macro avg       1.00      1.00      1.00    119702\n",
      "weighted avg       1.00      1.00      1.00    119702\n",
      "\n"
     ]
    }
   ],
   "source": [
    "rfts_pred=rf.predict(X_test)\n",
    "print(\"Testing Accuracy of Random Forest on Upsampling\")\n",
    "print(confusion_matrix(y_test,rfts_pred))\n",
    "print(accuracy_score(y_test,rfts_pred))\n",
    "print(classification_report(y_test,rfts_pred))"
   ]
  },
  {
   "cell_type": "markdown",
   "metadata": {},
   "source": [
    "### Applying  XGBoost on Upsampling"
   ]
  },
  {
   "cell_type": "code",
   "execution_count": 134,
   "metadata": {},
   "outputs": [],
   "source": [
    "import xgboost as xgb\n",
    "from xgboost import XGBClassifier"
   ]
  },
  {
   "cell_type": "code",
   "execution_count": 135,
   "metadata": {},
   "outputs": [
    {
     "name": "stderr",
     "output_type": "stream",
     "text": [
      "C:\\Users\\30ris\\anaconda3\\envs\\ftd\\lib\\site-packages\\xgboost\\sklearn.py:1224: UserWarning: The use of label encoder in XGBClassifier is deprecated and will be removed in a future release. To remove this warning, do the following: 1) Pass option use_label_encoder=False when constructing XGBClassifier object; and 2) Encode your labels (y) as integers starting with 0, i.e. 0, 1, 2, ..., [num_class - 1].\n",
      "  warnings.warn(label_encoder_deprecation_msg, UserWarning)\n"
     ]
    },
    {
     "name": "stdout",
     "output_type": "stream",
     "text": [
      "[10:37:08] WARNING: C:/Users/Administrator/workspace/xgboost-win64_release_1.5.0/src/learner.cc:1115: Starting in XGBoost 1.3.0, the default evaluation metric used with the objective 'binary:logistic' was changed from 'error' to 'logloss'. Explicitly set eval_metric if you'd like to restore the old behavior.\n"
     ]
    },
    {
     "data": {
      "text/plain": [
       "XGBClassifier(base_score=0.5, booster='gbtree', colsample_bylevel=1,\n",
       "              colsample_bynode=1, colsample_bytree=1, enable_categorical=False,\n",
       "              gamma=0, gpu_id=-1, importance_type=None,\n",
       "              interaction_constraints='', learning_rate=0.300000012,\n",
       "              max_delta_step=0, max_depth=6, min_child_weight=1, missing=nan,\n",
       "              monotone_constraints='()', n_estimators=100, n_jobs=8,\n",
       "              num_parallel_tree=1, predictor='auto', random_state=0,\n",
       "              reg_alpha=0, reg_lambda=1, scale_pos_weight=1, subsample=1,\n",
       "              tree_method='exact', validate_parameters=1, verbosity=None)"
      ]
     },
     "execution_count": 135,
     "metadata": {},
     "output_type": "execute_result"
    }
   ],
   "source": [
    "xgb = XGBClassifier(objective='binary:logistic')\n",
    "xgb.fit(X_train, y_train)"
   ]
  },
  {
   "cell_type": "code",
   "execution_count": 136,
   "metadata": {},
   "outputs": [
    {
     "name": "stdout",
     "output_type": "stream",
     "text": [
      "Training Accuracy of XGBOOST on Undersampling\n",
      "[[139745      0]\n",
      " [     0 139559]]\n",
      "1.0\n",
      "              precision    recall  f1-score   support\n",
      "\n",
      "           0       1.00      1.00      1.00    139745\n",
      "           1       1.00      1.00      1.00    139559\n",
      "\n",
      "    accuracy                           1.00    279304\n",
      "   macro avg       1.00      1.00      1.00    279304\n",
      "weighted avg       1.00      1.00      1.00    279304\n",
      "\n"
     ]
    }
   ],
   "source": [
    "xgbtr_pred=rf.predict(X_train)\n",
    "print(\"Training Accuracy of XGBOOST on Undersampling\")\n",
    "print(confusion_matrix(y_train,xgbtr_pred))\n",
    "print(accuracy_score(y_train,xgbtr_pred))\n",
    "print(classification_report(y_train,xgbtr_pred))"
   ]
  },
  {
   "cell_type": "code",
   "execution_count": 137,
   "metadata": {},
   "outputs": [
    {
     "name": "stdout",
     "output_type": "stream",
     "text": [
      "Testing Accuracy of XGBOOST on Undersampling\n",
      "[[59688    70]\n",
      " [  207 59737]]\n",
      "0.997685920034753\n",
      "              precision    recall  f1-score   support\n",
      "\n",
      "           0       1.00      1.00      1.00     59758\n",
      "           1       1.00      1.00      1.00     59944\n",
      "\n",
      "    accuracy                           1.00    119702\n",
      "   macro avg       1.00      1.00      1.00    119702\n",
      "weighted avg       1.00      1.00      1.00    119702\n",
      "\n"
     ]
    }
   ],
   "source": [
    "xgbts_pred=rf.predict(X_test)\n",
    "print(\"Testing Accuracy of XGBOOST on Undersampling\")\n",
    "print(confusion_matrix(y_test,xgbts_pred))\n",
    "print(accuracy_score(y_test,xgbts_pred))\n",
    "print(classification_report(y_test,xgbts_pred))"
   ]
  },
  {
   "cell_type": "markdown",
   "metadata": {},
   "source": [
    "### ROC & AUC Curve on upsampling of all models of testing prediction"
   ]
  },
  {
   "cell_type": "code",
   "execution_count": 138,
   "metadata": {},
   "outputs": [
    {
     "data": {
      "image/png": "[encoded data removed]",
      "text/plain": [
       "<Figure size 500x500 with 1 Axes>"
      ]
     },
     "metadata": {},
     "output_type": "display_data"
    }
   ],
   "source": [
    "from sklearn.metrics import roc_curve, auc\n",
    "\n",
    "logistic_fpr, logistic_tpr, threshold = roc_curve(y_test, lrts_pred)\n",
    "auc_logistic = auc(logistic_fpr, logistic_tpr)\n",
    "\n",
    "dt_fpr, dt_tpr, threshold = roc_curve(y_test, dtts_pred)\n",
    "auc_dt = auc(dt_fpr, dt_tpr)\n",
    "\n",
    "rf_fpr, rf_tpr, threshold = roc_curve(y_test, rfts_pred)\n",
    "auc_rf = auc(rf_fpr, rf_tpr)\n",
    "\n",
    "xgb_fpr, xgb_tpr, threshold = roc_curve(y_test, xgbts_pred)\n",
    "auc_xgb = auc(xgb_fpr, xgb_tpr)\n",
    "\n",
    "plt.figure(figsize=(5, 5), dpi=100)\n",
    "plt.plot(dt_fpr, dt_tpr, linestyle='-', label='Decision Tree (auc = %0.3f)' % auc_dt)\n",
    "plt.plot(logistic_fpr, logistic_tpr, marker='.', label='Logistic (auc = %0.3f)' % auc_logistic)\n",
    "plt.plot(rf_fpr, rf_tpr, linestyle='-', label='Random Forest (auc = %0.3f)' % auc_rf)\n",
    "plt.plot(xgb_fpr, xgb_tpr, linestyle='-', label='XGBoost (auc = %0.3f)' % auc_xgb)\n",
    "\n",
    "plt.xlabel('False Positive Rate -->')\n",
    "plt.ylabel('True Positive Rate -->')\n",
    "\n",
    "plt.legend()\n",
    "\n",
    "plt.show()"
   ]
  },
  {
   "cell_type": "markdown",
   "metadata": {},
   "source": [
    "### We have applied logistic regression,decision tree and random forest on upsampled dataset and this time we have found that decision tree and random forest has given more accuracy than that of undersampled data¶"
   ]
  },
  {
   "cell_type": "markdown",
   "metadata": {},
   "source": [
    "### Now we are checking for feature importance of decision tree model that which feature has more predictive power"
   ]
  },
  {
   "cell_type": "code",
   "execution_count": 139,
   "metadata": {},
   "outputs": [],
   "source": [
    "fi=pd.DataFrame({\"Feature Name\" : X.columns,\"Importance\":dtree.feature_importances_})"
   ]
  },
  {
   "cell_type": "code",
   "execution_count": 140,
   "metadata": {},
   "outputs": [
    {
     "data": {
      "text/html": [
       "<div>\n",
       "<style scoped>\n",
       "    .dataframe tbody tr th:only-of-type {\n",
       "        vertical-align: middle;\n",
       "    }\n",
       "\n",
       "    .dataframe tbody tr th {\n",
       "        vertical-align: top;\n",
       "    }\n",
       "\n",
       "    .dataframe thead th {\n",
       "        text-align: right;\n",
       "    }\n",
       "</style>\n",
       "<table border=\"1\" class=\"dataframe\">\n",
       "  <thead>\n",
       "    <tr style=\"text-align: right;\">\n",
       "      <th></th>\n",
       "      <th>Feature Name</th>\n",
       "      <th>Importance</th>\n",
       "    </tr>\n",
       "  </thead>\n",
       "  <tbody>\n",
       "    <tr>\n",
       "      <th>12</th>\n",
       "      <td>TERMINAL_ID_RISK_7DAY_WINDOW</td>\n",
       "      <td>0.441210</td>\n",
       "    </tr>\n",
       "    <tr>\n",
       "      <th>0</th>\n",
       "      <td>TX_AMOUNT</td>\n",
       "      <td>0.307525</td>\n",
       "    </tr>\n",
       "    <tr>\n",
       "      <th>9</th>\n",
       "      <td>TERMINAL_ID_NB_TX_1DAY_WINDOW</td>\n",
       "      <td>0.087343</td>\n",
       "    </tr>\n",
       "    <tr>\n",
       "      <th>8</th>\n",
       "      <td>CUSTOMER_ID_AVG_AMOUNT_30DAY_WINDOW</td>\n",
       "      <td>0.059191</td>\n",
       "    </tr>\n",
       "    <tr>\n",
       "      <th>6</th>\n",
       "      <td>CUSTOMER_ID_AVG_AMOUNT_7DAY_WINDOW</td>\n",
       "      <td>0.021614</td>\n",
       "    </tr>\n",
       "    <tr>\n",
       "      <th>14</th>\n",
       "      <td>TERMINAL_ID_RISK_30DAY_WINDOW</td>\n",
       "      <td>0.015712</td>\n",
       "    </tr>\n",
       "    <tr>\n",
       "      <th>4</th>\n",
       "      <td>CUSTOMER_ID_AVG_AMOUNT_1DAY_WINDOW</td>\n",
       "      <td>0.015141</td>\n",
       "    </tr>\n",
       "    <tr>\n",
       "      <th>3</th>\n",
       "      <td>CUSTOMER_ID_NB_TX_1DAY_WINDOW</td>\n",
       "      <td>0.011933</td>\n",
       "    </tr>\n",
       "    <tr>\n",
       "      <th>11</th>\n",
       "      <td>TERMINAL_ID_NB_TX_7DAY_WINDOW</td>\n",
       "      <td>0.010328</td>\n",
       "    </tr>\n",
       "    <tr>\n",
       "      <th>7</th>\n",
       "      <td>CUSTOMER_ID_NB_TX_30DAY_WINDOW</td>\n",
       "      <td>0.008594</td>\n",
       "    </tr>\n",
       "    <tr>\n",
       "      <th>13</th>\n",
       "      <td>TERMINAL_ID_NB_TX_30DAY_WINDOW</td>\n",
       "      <td>0.008238</td>\n",
       "    </tr>\n",
       "    <tr>\n",
       "      <th>10</th>\n",
       "      <td>TERMINAL_ID_RISK_1DAY_WINDOW</td>\n",
       "      <td>0.006327</td>\n",
       "    </tr>\n",
       "    <tr>\n",
       "      <th>5</th>\n",
       "      <td>CUSTOMER_ID_NB_TX_7DAY_WINDOW</td>\n",
       "      <td>0.004860</td>\n",
       "    </tr>\n",
       "    <tr>\n",
       "      <th>1</th>\n",
       "      <td>TX_DURING_WEEKEND</td>\n",
       "      <td>0.001595</td>\n",
       "    </tr>\n",
       "    <tr>\n",
       "      <th>2</th>\n",
       "      <td>TX_DURING_NIGHT</td>\n",
       "      <td>0.000387</td>\n",
       "    </tr>\n",
       "  </tbody>\n",
       "</table>\n",
       "</div>"
      ],
      "text/plain": [
       "                           Feature Name  Importance\n",
       "12         TERMINAL_ID_RISK_7DAY_WINDOW    0.441210\n",
       "0                             TX_AMOUNT    0.307525\n",
       "9         TERMINAL_ID_NB_TX_1DAY_WINDOW    0.087343\n",
       "8   CUSTOMER_ID_AVG_AMOUNT_30DAY_WINDOW    0.059191\n",
       "6    CUSTOMER_ID_AVG_AMOUNT_7DAY_WINDOW    0.021614\n",
       "14        TERMINAL_ID_RISK_30DAY_WINDOW    0.015712\n",
       "4    CUSTOMER_ID_AVG_AMOUNT_1DAY_WINDOW    0.015141\n",
       "3         CUSTOMER_ID_NB_TX_1DAY_WINDOW    0.011933\n",
       "11        TERMINAL_ID_NB_TX_7DAY_WINDOW    0.010328\n",
       "7        CUSTOMER_ID_NB_TX_30DAY_WINDOW    0.008594\n",
       "13       TERMINAL_ID_NB_TX_30DAY_WINDOW    0.008238\n",
       "10         TERMINAL_ID_RISK_1DAY_WINDOW    0.006327\n",
       "5         CUSTOMER_ID_NB_TX_7DAY_WINDOW    0.004860\n",
       "1                     TX_DURING_WEEKEND    0.001595\n",
       "2                       TX_DURING_NIGHT    0.000387"
      ]
     },
     "execution_count": 140,
     "metadata": {},
     "output_type": "execute_result"
    }
   ],
   "source": [
    "fi.sort_values(by=['Importance'],ascending=False)"
   ]
  },
  {
   "cell_type": "markdown",
   "metadata": {},
   "source": [
    "### we have found that balance feature has more predictive power than all of the other features which has highest value"
   ]
  },
  {
   "cell_type": "markdown",
   "metadata": {},
   "source": [
    "### We decided to save decision tree moodel of up sampled data because it give the same accuracy as of random forest and xgboost and takes less computation power and it process fast."
   ]
  },
  {
   "cell_type": "code",
   "execution_count": 168,
   "metadata": {},
   "outputs": [
    {
     "name": "stderr",
     "output_type": "stream",
     "text": [
      "C:\\Users\\30ris\\AppData\\Roaming\\Python\\Python37\\site-packages\\sklearn\\base.py:446: UserWarning: X does not have valid feature names, but DecisionTreeClassifier was fitted with feature names\n",
      "  \"X does not have valid feature names, but\"\n"
     ]
    },
    {
     "data": {
      "text/plain": [
       "array([0], dtype=int64)"
      ]
     },
     "execution_count": 168,
     "metadata": {},
     "output_type": "execute_result"
    }
   ],
   "source": [
    "dtree.predict([[97.72,1,0,4.0,53.365,27.0,52.455926,125.0,50.05456,1.0,0.0,6.0,0.0,19.0,0.0]])"
   ]
  },
  {
   "cell_type": "code",
   "execution_count": 158,
   "metadata": {},
   "outputs": [
    {
     "data": {
      "text/plain": [
       "Index(['TX_AMOUNT', 'TX_DURING_WEEKEND', 'TX_DURING_NIGHT',\n",
       "       'CUSTOMER_ID_NB_TX_1DAY_WINDOW', 'CUSTOMER_ID_AVG_AMOUNT_1DAY_WINDOW',\n",
       "       'CUSTOMER_ID_NB_TX_7DAY_WINDOW', 'CUSTOMER_ID_AVG_AMOUNT_7DAY_WINDOW',\n",
       "       'CUSTOMER_ID_NB_TX_30DAY_WINDOW', 'CUSTOMER_ID_AVG_AMOUNT_30DAY_WINDOW',\n",
       "       'TERMINAL_ID_NB_TX_1DAY_WINDOW', 'TERMINAL_ID_RISK_1DAY_WINDOW',\n",
       "       'TERMINAL_ID_NB_TX_7DAY_WINDOW', 'TERMINAL_ID_RISK_7DAY_WINDOW',\n",
       "       'TERMINAL_ID_NB_TX_30DAY_WINDOW', 'TERMINAL_ID_RISK_30DAY_WINDOW'],\n",
       "      dtype='object')"
      ]
     },
     "execution_count": 158,
     "metadata": {},
     "output_type": "execute_result"
    }
   ],
   "source": [
    "X_test.columns"
   ]
  },
  {
   "cell_type": "code",
   "execution_count": 162,
   "metadata": {},
   "outputs": [
    {
     "data": {
      "text/plain": [
       "TX_AMOUNT                               97.720000\n",
       "TX_DURING_WEEKEND                        1.000000\n",
       "TX_DURING_NIGHT                          0.000000\n",
       "CUSTOMER_ID_NB_TX_1DAY_WINDOW            4.000000\n",
       "CUSTOMER_ID_AVG_AMOUNT_1DAY_WINDOW      53.365000\n",
       "CUSTOMER_ID_NB_TX_7DAY_WINDOW           27.000000\n",
       "CUSTOMER_ID_AVG_AMOUNT_7DAY_WINDOW      52.455926\n",
       "CUSTOMER_ID_NB_TX_30DAY_WINDOW         125.000000\n",
       "CUSTOMER_ID_AVG_AMOUNT_30DAY_WINDOW     50.054560\n",
       "TERMINAL_ID_NB_TX_1DAY_WINDOW            1.000000\n",
       "TERMINAL_ID_RISK_1DAY_WINDOW             0.000000\n",
       "TERMINAL_ID_NB_TX_7DAY_WINDOW            6.000000\n",
       "TERMINAL_ID_RISK_7DAY_WINDOW             0.000000\n",
       "TERMINAL_ID_NB_TX_30DAY_WINDOW          19.000000\n",
       "TERMINAL_ID_RISK_30DAY_WINDOW            0.000000\n",
       "Name: 169263, dtype: float64"
      ]
     },
     "execution_count": 162,
     "metadata": {},
     "output_type": "execute_result"
    }
   ],
   "source": [
    "X_test.iloc[0]"
   ]
  },
  {
   "cell_type": "code",
   "execution_count": 163,
   "metadata": {},
   "outputs": [
    {
     "data": {
      "text/html": [
       "<div>\n",
       "<style scoped>\n",
       "    .dataframe tbody tr th:only-of-type {\n",
       "        vertical-align: middle;\n",
       "    }\n",
       "\n",
       "    .dataframe tbody tr th {\n",
       "        vertical-align: top;\n",
       "    }\n",
       "\n",
       "    .dataframe thead th {\n",
       "        text-align: right;\n",
       "    }\n",
       "</style>\n",
       "<table border=\"1\" class=\"dataframe\">\n",
       "  <thead>\n",
       "    <tr style=\"text-align: right;\">\n",
       "      <th></th>\n",
       "      <th>TX_AMOUNT</th>\n",
       "      <th>TX_DURING_WEEKEND</th>\n",
       "      <th>TX_DURING_NIGHT</th>\n",
       "      <th>CUSTOMER_ID_NB_TX_1DAY_WINDOW</th>\n",
       "      <th>CUSTOMER_ID_AVG_AMOUNT_1DAY_WINDOW</th>\n",
       "      <th>CUSTOMER_ID_NB_TX_7DAY_WINDOW</th>\n",
       "      <th>CUSTOMER_ID_AVG_AMOUNT_7DAY_WINDOW</th>\n",
       "      <th>CUSTOMER_ID_NB_TX_30DAY_WINDOW</th>\n",
       "      <th>CUSTOMER_ID_AVG_AMOUNT_30DAY_WINDOW</th>\n",
       "      <th>TERMINAL_ID_NB_TX_1DAY_WINDOW</th>\n",
       "      <th>TERMINAL_ID_RISK_1DAY_WINDOW</th>\n",
       "      <th>TERMINAL_ID_NB_TX_7DAY_WINDOW</th>\n",
       "      <th>TERMINAL_ID_RISK_7DAY_WINDOW</th>\n",
       "      <th>TERMINAL_ID_NB_TX_30DAY_WINDOW</th>\n",
       "      <th>TERMINAL_ID_RISK_30DAY_WINDOW</th>\n",
       "    </tr>\n",
       "  </thead>\n",
       "  <tbody>\n",
       "    <tr>\n",
       "      <th>169263</th>\n",
       "      <td>97.72</td>\n",
       "      <td>1</td>\n",
       "      <td>0</td>\n",
       "      <td>4.0</td>\n",
       "      <td>53.365</td>\n",
       "      <td>27.0</td>\n",
       "      <td>52.455926</td>\n",
       "      <td>125.0</td>\n",
       "      <td>50.05456</td>\n",
       "      <td>1.0</td>\n",
       "      <td>0.0</td>\n",
       "      <td>6.0</td>\n",
       "      <td>0.0</td>\n",
       "      <td>19.0</td>\n",
       "      <td>0.0</td>\n",
       "    </tr>\n",
       "  </tbody>\n",
       "</table>\n",
       "</div>"
      ],
      "text/plain": [
       "        TX_AMOUNT  TX_DURING_WEEKEND  TX_DURING_NIGHT  \\\n",
       "169263      97.72                  1                0   \n",
       "\n",
       "        CUSTOMER_ID_NB_TX_1DAY_WINDOW  CUSTOMER_ID_AVG_AMOUNT_1DAY_WINDOW  \\\n",
       "169263                            4.0                              53.365   \n",
       "\n",
       "        CUSTOMER_ID_NB_TX_7DAY_WINDOW  CUSTOMER_ID_AVG_AMOUNT_7DAY_WINDOW  \\\n",
       "169263                           27.0                           52.455926   \n",
       "\n",
       "        CUSTOMER_ID_NB_TX_30DAY_WINDOW  CUSTOMER_ID_AVG_AMOUNT_30DAY_WINDOW  \\\n",
       "169263                           125.0                             50.05456   \n",
       "\n",
       "        TERMINAL_ID_NB_TX_1DAY_WINDOW  TERMINAL_ID_RISK_1DAY_WINDOW  \\\n",
       "169263                            1.0                           0.0   \n",
       "\n",
       "        TERMINAL_ID_NB_TX_7DAY_WINDOW  TERMINAL_ID_RISK_7DAY_WINDOW  \\\n",
       "169263                            6.0                           0.0   \n",
       "\n",
       "        TERMINAL_ID_NB_TX_30DAY_WINDOW  TERMINAL_ID_RISK_30DAY_WINDOW  \n",
       "169263                            19.0                            0.0  "
      ]
     },
     "execution_count": 163,
     "metadata": {},
     "output_type": "execute_result"
    }
   ],
   "source": [
    "X_test.head(1)"
   ]
  },
  {
   "cell_type": "code",
   "execution_count": 167,
   "metadata": {},
   "outputs": [
    {
     "data": {
      "text/plain": [
       "0"
      ]
     },
     "execution_count": 167,
     "metadata": {},
     "output_type": "execute_result"
    }
   ],
   "source": [
    "y_test.iloc[0]"
   ]
  },
  {
   "cell_type": "code",
   "execution_count": 211,
   "metadata": {},
   "outputs": [
    {
     "data": {
      "text/plain": [
       "0.0"
      ]
     },
     "execution_count": 211,
     "metadata": {},
     "output_type": "execute_result"
    }
   ],
   "source": [
    "X['TERMINAL_ID_RISK_30DAY_WINDOW'].min()"
   ]
  },
  {
   "cell_type": "code",
   "execution_count": 210,
   "metadata": {},
   "outputs": [
    {
     "data": {
      "text/plain": [
       "1.0"
      ]
     },
     "execution_count": 210,
     "metadata": {},
     "output_type": "execute_result"
    }
   ],
   "source": [
    "X['TERMINAL_ID_RISK_30DAY_WINDOW'].max()"
   ]
  },
  {
   "cell_type": "code",
   "execution_count": 170,
   "metadata": {},
   "outputs": [],
   "source": [
    "import pickle"
   ]
  },
  {
   "cell_type": "code",
   "execution_count": 171,
   "metadata": {},
   "outputs": [],
   "source": [
    "filename1 = 'final_model.pkl'\n",
    "pickle.dump(dtree, open(filename1, 'wb'))"
   ]
  },
  {
   "cell_type": "code",
   "execution_count": null,
   "metadata": {},
   "outputs": [],
   "source": []
  }
 ],
 "metadata": {
  "interpreter": {
   "hash": "707b35035b3cb541b82748a838ff26157772102db38833c0d5ef9e05b9c1b2b1"
  },
  "kernelspec": {
   "display_name": "Python 3",
   "language": "python",
   "name": "python3"
  },
  "language_info": {
   "codemirror_mode": {
    "name": "ipython",
    "version": 3
   },
   "file_extension": ".py",
   "mimetype": "text/x-python",
   "name": "python",
   "nbconvert_exporter": "python",
   "pygments_lexer": "ipython3",
   "version": "3.7.6"
  }
 },
 "nbformat": 4,
 "nbformat_minor": 2
}
